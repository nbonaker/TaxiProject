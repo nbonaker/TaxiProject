{
 "cells": [
  {
   "cell_type": "code",
   "execution_count": 148,
   "metadata": {},
   "outputs": [],
   "source": [
    "import pandas as pd\n",
    "import numpy as np\n",
    "from sklearn.model_selection import train_test_split\n",
    "\n",
    "from matplotlib import pyplot as plt"
   ]
  },
  {
   "cell_type": "code",
   "execution_count": 149,
   "metadata": {},
   "outputs": [],
   "source": [
    "path = './agg_taxi_fare_data/'"
   ]
  },
  {
   "cell_type": "code",
   "execution_count": 150,
   "metadata": {},
   "outputs": [],
   "source": [
    "# Load month aggregate fare data\n",
    "jan2019 = pd.read_csv(path + 'January2019_avg_fare.csv')\n",
    "feb2019 = pd.read_csv(path + 'February2019_avg_fare.csv')\n",
    "mar2019 = pd.read_csv(path + 'February2019_avg_fare.csv')\n",
    "apr2019 = pd.read_csv(path + 'April2019_avg_fare.csv')\n",
    "may2019 = pd.read_csv(path + 'May2019_avg_fare.csv')\n",
    "jun2019 = pd.read_csv(path + 'June2019_avg_fare.csv')"
   ]
  },
  {
   "cell_type": "code",
   "execution_count": 151,
   "metadata": {},
   "outputs": [],
   "source": [
    "agg_df = jan2019.append([feb2019, mar2019, apr2019, may2019, jun2019])\n",
    "agg_df.drop(['Unnamed: 0'], axis=1, inplace=True)"
   ]
  },
  {
   "cell_type": "code",
   "execution_count": 152,
   "metadata": {},
   "outputs": [
    {
     "data": {
      "text/plain": [
       "4986541"
      ]
     },
     "execution_count": 152,
     "metadata": {},
     "output_type": "execute_result"
    }
   ],
   "source": [
    "len(agg_df)"
   ]
  },
  {
   "cell_type": "code",
   "execution_count": 153,
   "metadata": {},
   "outputs": [],
   "source": [
    "agg_df.to_csv(path + 'avg_fare_all.csv')"
   ]
  },
  {
   "cell_type": "code",
   "execution_count": 154,
   "metadata": {},
   "outputs": [],
   "source": [
    "## Need to drop the following columns when doing training, validation, and testing\n",
    "## 1. pickup_location_ID\n",
    "## 2. dropoff_location_ID\n",
    "## 3. pickup_date\n",
    "## 4. avg_fare as this is the target"
   ]
  },
  {
   "cell_type": "code",
   "execution_count": 155,
   "metadata": {},
   "outputs": [],
   "source": [
    "X_train, X_test = train_test_split(agg_df, test_size=0.2, random_state=42)\n",
    "val_frac = len(X_test)/(len(X)-len(X_test))\n",
    "X_train, X_val = train_test_split(X_train, test_size=val_frac, random_state=42)"
   ]
  },
  {
   "cell_type": "code",
   "execution_count": 156,
   "metadata": {},
   "outputs": [],
   "source": [
    "features = [\n",
    " 'PU_time_2AM-5:59AM',\n",
    " 'PU_time_6AM-9:59AM',\n",
    " 'PU_time_10AM-1:59PM',\n",
    " 'PU_time_2PM-5:59PM',\n",
    " 'PU_time_6PM-9:59PM',\n",
    " 'PU_time_10PM-1:59AM',\n",
    " 'weekend/holiday',\n",
    " 'PU_longitude',\n",
    " 'PU_latitude',\n",
    " 'DO_longitude',\n",
    " 'DO_latitude',\n",
    " 'distance'\n",
    "]"
   ]
  },
  {
   "cell_type": "code",
   "execution_count": 157,
   "metadata": {},
   "outputs": [],
   "source": [
    "def min_max_scalar(x):\n",
    "    return (x - x.min()) / (x.max() - x.min())"
   ]
  },
  {
   "cell_type": "code",
   "execution_count": 158,
   "metadata": {},
   "outputs": [],
   "source": [
    "# Normalize the features using min-max scalar\n",
    "X_train[features] = X_train[features].apply(min_max_scalar)\n",
    "X_val[features] = X_val[features].apply(min_max_scalar)\n",
    "X_test[features] = X_test[features].apply(min_max_scalar)"
   ]
  },
  {
   "cell_type": "code",
   "execution_count": 159,
   "metadata": {},
   "outputs": [],
   "source": [
    "X_train.to_csv('./fare_prediction_data/avg_fare_train.csv')\n",
    "X_val.to_csv('./fare_prediction_data/avg_fare_val.csv')\n",
    "X_test.to_csv('./fare_prediction_data/avg_fare_test.csv')"
   ]
  },
  {
   "cell_type": "code",
   "execution_count": 160,
   "metadata": {},
   "outputs": [
    {
     "data": {
      "text/plain": [
       "997261"
      ]
     },
     "execution_count": 160,
     "metadata": {},
     "output_type": "execute_result"
    }
   ],
   "source": [
    "len(X_val)"
   ]
  },
  {
   "cell_type": "code",
   "execution_count": 161,
   "metadata": {},
   "outputs": [
    {
     "data": {
      "text/plain": [
       "997309"
      ]
     },
     "execution_count": 161,
     "metadata": {},
     "output_type": "execute_result"
    }
   ],
   "source": [
    "len(X_test)"
   ]
  },
  {
   "cell_type": "code",
   "execution_count": 162,
   "metadata": {},
   "outputs": [
    {
     "data": {
      "text/plain": [
       "2991971"
      ]
     },
     "execution_count": 162,
     "metadata": {},
     "output_type": "execute_result"
    }
   ],
   "source": [
    "len(X_train)"
   ]
  },
  {
   "cell_type": "code",
   "execution_count": null,
   "metadata": {},
   "outputs": [],
   "source": []
  }
 ],
 "metadata": {
  "kernelspec": {
   "display_name": "Python 3",
   "language": "python",
   "name": "python3"
  },
  "language_info": {
   "codemirror_mode": {
    "name": "ipython",
    "version": 3
   },
   "file_extension": ".py",
   "mimetype": "text/x-python",
   "name": "python",
   "nbconvert_exporter": "python",
   "pygments_lexer": "ipython3",
   "version": "3.7.6"
  }
 },
 "nbformat": 4,
 "nbformat_minor": 4
}
