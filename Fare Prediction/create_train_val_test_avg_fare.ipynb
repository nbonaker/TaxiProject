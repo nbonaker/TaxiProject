{
 "cells": [
  {
   "cell_type": "code",
   "execution_count": 1,
   "metadata": {},
   "outputs": [],
   "source": [
    "import pandas as pd\n",
    "import numpy as np\n",
    "from sklearn.model_selection import train_test_split\n",
    "\n",
    "from matplotlib import pyplot as plt"
   ]
  },
  {
   "cell_type": "code",
   "execution_count": 2,
   "metadata": {},
   "outputs": [],
   "source": [
    "path = './agg_taxi_fare_data/'"
   ]
  },
  {
   "cell_type": "code",
   "execution_count": 3,
   "metadata": {},
   "outputs": [],
   "source": [
    "# Load month aggregate fare data\n",
    "jan2019 = pd.read_csv(path + 'January2019_avg_fare.csv')\n",
    "feb2019 = pd.read_csv(path + 'February2019_avg_fare.csv')\n",
    "mar2019 = pd.read_csv(path + 'February2019_avg_fare.csv')\n",
    "apr2019 = pd.read_csv(path + 'April2019_avg_fare.csv')\n",
    "may2019 = pd.read_csv(path + 'May2019_avg_fare.csv')\n",
    "jun2019 = pd.read_csv(path + 'June2019_avg_fare.csv')"
   ]
  },
  {
   "cell_type": "code",
   "execution_count": 4,
   "metadata": {},
   "outputs": [],
   "source": [
    "agg_df = jan2019.append([feb2019, mar2019, apr2019, may2019, jun2019])\n",
    "agg_df.drop(['Unnamed: 0'], axis=1, inplace=True)"
   ]
  },
  {
   "cell_type": "code",
   "execution_count": 5,
   "metadata": {},
   "outputs": [],
   "source": [
    "agg_df.to_csv('./fare_prediction_data/avg_fare_all.csv')"
   ]
  },
  {
   "cell_type": "code",
   "execution_count": 6,
   "metadata": {},
   "outputs": [],
   "source": [
    "agg_df.head(20)\n",
    "agg_df = agg_df.sample(frac=0.5)"
   ]
  },
  {
   "cell_type": "code",
   "execution_count": 7,
   "metadata": {},
   "outputs": [],
   "source": [
    "## Need to drop the following columns when doing training, validation, and testing\n",
    "## 1. pickup_location_ID\n",
    "## 2. dropoff_location_ID\n",
    "## 3. pickup_date\n",
    "## 4. avg_fare as this is the target"
   ]
  },
  {
   "cell_type": "code",
   "execution_count": 8,
   "metadata": {},
   "outputs": [],
   "source": [
    "y = agg_df['avg_fare']"
   ]
  },
  {
   "cell_type": "code",
   "execution_count": 9,
   "metadata": {},
   "outputs": [],
   "source": [
    "X = agg_df.drop(columns=['avg_fare'])"
   ]
  },
  {
   "cell_type": "code",
   "execution_count": 10,
   "metadata": {},
   "outputs": [],
   "source": [
    "X_train, X_test, y_train, y_test = train_test_split(X, y, test_size=0.1, random_state=1)\n",
    "X_train, X_val, y_train, y_val = train_test_split(X_train, y_train, test_size=0.1, random_state=1)"
   ]
  },
  {
   "cell_type": "code",
   "execution_count": 11,
   "metadata": {},
   "outputs": [
    {
     "name": "stderr",
     "output_type": "stream",
     "text": [
      "/usr/local/lib/python3.7/site-packages/ipykernel_launcher.py:7: SettingWithCopyWarning: \n",
      "A value is trying to be set on a copy of a slice from a DataFrame.\n",
      "Try using .loc[row_indexer,col_indexer] = value instead\n",
      "\n",
      "See the caveats in the documentation: https://pandas.pydata.org/pandas-docs/stable/user_guide/indexing.html#returning-a-view-versus-a-copy\n",
      "  import sys\n"
     ]
    }
   ],
   "source": [
    "X_train['avg_fare'] = y_train\n",
    "train_DF = X_train\n",
    "train_DF.to_csv('./fare_prediction_data/avg_fare_train.csv')\n",
    "X_val['avg_fare'] = y_val\n",
    "val_DF = X_val\n",
    "val_DF.to_csv('./fare_prediction_data/avg_fare_val.csv')\n",
    "X_test['avg_fare'] = y_test\n",
    "test_DF = X_test\n",
    "test_DF.to_csv('./fare_prediction_data/avg_fare_test.csv')"
   ]
  },
  {
   "cell_type": "code",
   "execution_count": null,
   "metadata": {},
   "outputs": [],
   "source": []
  }
 ],
 "metadata": {
  "kernelspec": {
   "display_name": "Python 3",
   "language": "python",
   "name": "python3"
  },
  "language_info": {
   "codemirror_mode": {
    "name": "ipython",
    "version": 3
   },
   "file_extension": ".py",
   "mimetype": "text/x-python",
   "name": "python",
   "nbconvert_exporter": "python",
   "pygments_lexer": "ipython3",
   "version": "3.7.6"
  }
 },
 "nbformat": 4,
 "nbformat_minor": 4
}
