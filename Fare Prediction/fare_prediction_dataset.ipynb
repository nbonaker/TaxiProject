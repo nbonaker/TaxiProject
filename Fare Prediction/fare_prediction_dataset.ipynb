{
 "cells": [
  {
   "cell_type": "code",
   "execution_count": 532,
   "metadata": {
    "id": "yVet2XrturGl"
   },
   "outputs": [],
   "source": [
    "import pandas as pd\n",
    "from pandas.api.types import CategoricalDtype\n",
    "import numpy as np\n",
    "from math import radians, cos, sin, asin, sqrt\n",
    "import datetime\n",
    "import holidays\n",
    "import os\n",
    "\n",
    "from sklearn import preprocessing\n",
    "\n",
    "from matplotlib import pyplot as plt"
   ]
  },
  {
   "cell_type": "code",
   "execution_count": 533,
   "metadata": {
    "id": "kAANKJiKf2rD"
   },
   "outputs": [],
   "source": [
    "path = 'June2019'"
   ]
  },
  {
   "cell_type": "code",
   "execution_count": 534,
   "metadata": {},
   "outputs": [],
   "source": [
    "zone_lat_long_lookup = pd.read_csv('../taxi_zones.csv')[['LocationID', 'X', 'Y']]"
   ]
  },
  {
   "cell_type": "code",
   "execution_count": 535,
   "metadata": {},
   "outputs": [
    {
     "data": {
      "text/html": [
       "<div>\n",
       "<style scoped>\n",
       "    .dataframe tbody tr th:only-of-type {\n",
       "        vertical-align: middle;\n",
       "    }\n",
       "\n",
       "    .dataframe tbody tr th {\n",
       "        vertical-align: top;\n",
       "    }\n",
       "\n",
       "    .dataframe thead th {\n",
       "        text-align: right;\n",
       "    }\n",
       "</style>\n",
       "<table border=\"1\" class=\"dataframe\">\n",
       "  <thead>\n",
       "    <tr style=\"text-align: right;\">\n",
       "      <th></th>\n",
       "      <th>LocationID</th>\n",
       "      <th>X</th>\n",
       "      <th>Y</th>\n",
       "    </tr>\n",
       "  </thead>\n",
       "  <tbody>\n",
       "    <tr>\n",
       "      <th>0</th>\n",
       "      <td>1</td>\n",
       "      <td>-74.176786</td>\n",
       "      <td>40.689516</td>\n",
       "    </tr>\n",
       "    <tr>\n",
       "      <th>1</th>\n",
       "      <td>2</td>\n",
       "      <td>-73.826126</td>\n",
       "      <td>40.625724</td>\n",
       "    </tr>\n",
       "    <tr>\n",
       "      <th>2</th>\n",
       "      <td>3</td>\n",
       "      <td>-73.849479</td>\n",
       "      <td>40.865888</td>\n",
       "    </tr>\n",
       "    <tr>\n",
       "      <th>3</th>\n",
       "      <td>4</td>\n",
       "      <td>-73.977023</td>\n",
       "      <td>40.724152</td>\n",
       "    </tr>\n",
       "    <tr>\n",
       "      <th>4</th>\n",
       "      <td>5</td>\n",
       "      <td>-74.189930</td>\n",
       "      <td>40.550340</td>\n",
       "    </tr>\n",
       "    <tr>\n",
       "      <th>5</th>\n",
       "      <td>6</td>\n",
       "      <td>-74.067774</td>\n",
       "      <td>40.599062</td>\n",
       "    </tr>\n",
       "    <tr>\n",
       "      <th>6</th>\n",
       "      <td>7</td>\n",
       "      <td>-73.921491</td>\n",
       "      <td>40.761085</td>\n",
       "    </tr>\n",
       "    <tr>\n",
       "      <th>7</th>\n",
       "      <td>8</td>\n",
       "      <td>-73.923202</td>\n",
       "      <td>40.778607</td>\n",
       "    </tr>\n",
       "    <tr>\n",
       "      <th>8</th>\n",
       "      <td>9</td>\n",
       "      <td>-73.788020</td>\n",
       "      <td>40.754411</td>\n",
       "    </tr>\n",
       "    <tr>\n",
       "      <th>9</th>\n",
       "      <td>10</td>\n",
       "      <td>-73.791665</td>\n",
       "      <td>40.678125</td>\n",
       "    </tr>\n",
       "  </tbody>\n",
       "</table>\n",
       "</div>"
      ],
      "text/plain": [
       "   LocationID          X          Y\n",
       "0           1 -74.176786  40.689516\n",
       "1           2 -73.826126  40.625724\n",
       "2           3 -73.849479  40.865888\n",
       "3           4 -73.977023  40.724152\n",
       "4           5 -74.189930  40.550340\n",
       "5           6 -74.067774  40.599062\n",
       "6           7 -73.921491  40.761085\n",
       "7           8 -73.923202  40.778607\n",
       "8           9 -73.788020  40.754411\n",
       "9          10 -73.791665  40.678125"
      ]
     },
     "execution_count": 535,
     "metadata": {},
     "output_type": "execute_result"
    }
   ],
   "source": [
    "zone_lat_long_lookup.head(10)"
   ]
  },
  {
   "cell_type": "code",
   "execution_count": 536,
   "metadata": {
    "id": "F43ITEt23cYp"
   },
   "outputs": [],
   "source": [
    "def create_trip_DF(path):\n",
    "  df = pd.read_csv(path)\n",
    "  df.drop(['extra', 'RatecodeID', 'store_and_fwd_flag', 'RatecodeID', 'payment_type', 'passenger_count', 'store_and_fwd_flag', 'tolls_amount', 'VendorID', 'tip_amount', 'improvement_surcharge', 'total_amount', 'congestion_surcharge', 'mta_tax'], axis=1, inplace=True)\n",
    "  df.rename(columns={'tpep_pickup_datetime':'pickup_datetime', 'tpep_dropoff_datetime':'dropoff_datetime', 'PULocationID': 'pickup_location_ID', 'DOLocationID':'dropoff_location_ID'}, inplace=True)\n",
    "  df[\"pickup_datetime\"] = pd.to_datetime(df[\"pickup_datetime\"], format='%Y-%m-%d %H:%M:%S', errors='ignore')\n",
    "  df[\"dropoff_datetime\"] = pd.to_datetime(df[\"dropoff_datetime\"], format='%Y-%m-%d %H:%M:%S', errors='ignore')\n",
    "  df.dropna()\n",
    "  df = df[(df['fare_amount'] >= 2.50) & (df['fare_amount'] <= 150) & (df['trip_distance'] > 0)]\n",
    "  return df"
   ]
  },
  {
   "cell_type": "code",
   "execution_count": 537,
   "metadata": {
    "colab": {
     "base_uri": "https://localhost:8080/"
    },
    "id": "T-TzZ28O1LE3",
    "outputId": "fa76f892-a3a5-4862-b11d-be3e4de0becc"
   },
   "outputs": [
    {
     "name": "stdout",
     "output_type": "stream",
     "text": [
      "6863199\n"
     ]
    }
   ],
   "source": [
    "trip_DF = create_trip_DF('../raw_taxi_data/' + path + '.csv')\n",
    "print(len(trip_DF.index))"
   ]
  },
  {
   "cell_type": "code",
   "execution_count": 538,
   "metadata": {},
   "outputs": [
    {
     "data": {
      "text/html": [
       "<div>\n",
       "<style scoped>\n",
       "    .dataframe tbody tr th:only-of-type {\n",
       "        vertical-align: middle;\n",
       "    }\n",
       "\n",
       "    .dataframe tbody tr th {\n",
       "        vertical-align: top;\n",
       "    }\n",
       "\n",
       "    .dataframe thead th {\n",
       "        text-align: right;\n",
       "    }\n",
       "</style>\n",
       "<table border=\"1\" class=\"dataframe\">\n",
       "  <thead>\n",
       "    <tr style=\"text-align: right;\">\n",
       "      <th></th>\n",
       "      <th>trip_distance</th>\n",
       "      <th>pickup_location_ID</th>\n",
       "      <th>dropoff_location_ID</th>\n",
       "      <th>fare_amount</th>\n",
       "    </tr>\n",
       "  </thead>\n",
       "  <tbody>\n",
       "    <tr>\n",
       "      <th>count</th>\n",
       "      <td>6.863199e+06</td>\n",
       "      <td>6.863199e+06</td>\n",
       "      <td>6.863199e+06</td>\n",
       "      <td>6.863199e+06</td>\n",
       "    </tr>\n",
       "    <tr>\n",
       "      <th>mean</th>\n",
       "      <td>3.093636e+00</td>\n",
       "      <td>1.623078e+02</td>\n",
       "      <td>1.605670e+02</td>\n",
       "      <td>1.349201e+01</td>\n",
       "    </tr>\n",
       "    <tr>\n",
       "      <th>std</th>\n",
       "      <td>3.940528e+00</td>\n",
       "      <td>6.631271e+01</td>\n",
       "      <td>7.034863e+01</td>\n",
       "      <td>1.159720e+01</td>\n",
       "    </tr>\n",
       "    <tr>\n",
       "      <th>min</th>\n",
       "      <td>1.000000e-02</td>\n",
       "      <td>1.000000e+00</td>\n",
       "      <td>1.000000e+00</td>\n",
       "      <td>2.500000e+00</td>\n",
       "    </tr>\n",
       "    <tr>\n",
       "      <th>25%</th>\n",
       "      <td>1.000000e+00</td>\n",
       "      <td>1.140000e+02</td>\n",
       "      <td>1.070000e+02</td>\n",
       "      <td>6.500000e+00</td>\n",
       "    </tr>\n",
       "    <tr>\n",
       "      <th>50%</th>\n",
       "      <td>1.700000e+00</td>\n",
       "      <td>1.610000e+02</td>\n",
       "      <td>1.620000e+02</td>\n",
       "      <td>9.500000e+00</td>\n",
       "    </tr>\n",
       "    <tr>\n",
       "      <th>75%</th>\n",
       "      <td>3.180000e+00</td>\n",
       "      <td>2.330000e+02</td>\n",
       "      <td>2.330000e+02</td>\n",
       "      <td>1.500000e+01</td>\n",
       "    </tr>\n",
       "    <tr>\n",
       "      <th>max</th>\n",
       "      <td>1.012000e+02</td>\n",
       "      <td>2.650000e+02</td>\n",
       "      <td>2.650000e+02</td>\n",
       "      <td>1.500000e+02</td>\n",
       "    </tr>\n",
       "  </tbody>\n",
       "</table>\n",
       "</div>"
      ],
      "text/plain": [
       "       trip_distance  pickup_location_ID  dropoff_location_ID   fare_amount\n",
       "count   6.863199e+06        6.863199e+06         6.863199e+06  6.863199e+06\n",
       "mean    3.093636e+00        1.623078e+02         1.605670e+02  1.349201e+01\n",
       "std     3.940528e+00        6.631271e+01         7.034863e+01  1.159720e+01\n",
       "min     1.000000e-02        1.000000e+00         1.000000e+00  2.500000e+00\n",
       "25%     1.000000e+00        1.140000e+02         1.070000e+02  6.500000e+00\n",
       "50%     1.700000e+00        1.610000e+02         1.620000e+02  9.500000e+00\n",
       "75%     3.180000e+00        2.330000e+02         2.330000e+02  1.500000e+01\n",
       "max     1.012000e+02        2.650000e+02         2.650000e+02  1.500000e+02"
      ]
     },
     "execution_count": 538,
     "metadata": {},
     "output_type": "execute_result"
    }
   ],
   "source": [
    "trip_DF.describe()"
   ]
  },
  {
   "cell_type": "code",
   "execution_count": 539,
   "metadata": {
    "colab": {
     "base_uri": "https://localhost:8080/",
     "height": 317
    },
    "id": "jSPrKwIZQAP3",
    "outputId": "524056eb-2007-4e60-f3dc-8a44092b4ab9"
   },
   "outputs": [
    {
     "data": {
      "text/html": [
       "<div>\n",
       "<style scoped>\n",
       "    .dataframe tbody tr th:only-of-type {\n",
       "        vertical-align: middle;\n",
       "    }\n",
       "\n",
       "    .dataframe tbody tr th {\n",
       "        vertical-align: top;\n",
       "    }\n",
       "\n",
       "    .dataframe thead th {\n",
       "        text-align: right;\n",
       "    }\n",
       "</style>\n",
       "<table border=\"1\" class=\"dataframe\">\n",
       "  <thead>\n",
       "    <tr style=\"text-align: right;\">\n",
       "      <th></th>\n",
       "      <th>trip_distance</th>\n",
       "      <th>pickup_location_ID</th>\n",
       "      <th>dropoff_location_ID</th>\n",
       "      <th>fare_amount</th>\n",
       "    </tr>\n",
       "  </thead>\n",
       "  <tbody>\n",
       "    <tr>\n",
       "      <th>count</th>\n",
       "      <td>6.863199e+06</td>\n",
       "      <td>6.863199e+06</td>\n",
       "      <td>6.863199e+06</td>\n",
       "      <td>6.863199e+06</td>\n",
       "    </tr>\n",
       "    <tr>\n",
       "      <th>mean</th>\n",
       "      <td>3.093636e+00</td>\n",
       "      <td>1.623078e+02</td>\n",
       "      <td>1.605670e+02</td>\n",
       "      <td>1.349201e+01</td>\n",
       "    </tr>\n",
       "    <tr>\n",
       "      <th>std</th>\n",
       "      <td>3.940528e+00</td>\n",
       "      <td>6.631271e+01</td>\n",
       "      <td>7.034863e+01</td>\n",
       "      <td>1.159720e+01</td>\n",
       "    </tr>\n",
       "    <tr>\n",
       "      <th>min</th>\n",
       "      <td>1.000000e-02</td>\n",
       "      <td>1.000000e+00</td>\n",
       "      <td>1.000000e+00</td>\n",
       "      <td>2.500000e+00</td>\n",
       "    </tr>\n",
       "    <tr>\n",
       "      <th>25%</th>\n",
       "      <td>1.000000e+00</td>\n",
       "      <td>1.140000e+02</td>\n",
       "      <td>1.070000e+02</td>\n",
       "      <td>6.500000e+00</td>\n",
       "    </tr>\n",
       "    <tr>\n",
       "      <th>50%</th>\n",
       "      <td>1.700000e+00</td>\n",
       "      <td>1.610000e+02</td>\n",
       "      <td>1.620000e+02</td>\n",
       "      <td>9.500000e+00</td>\n",
       "    </tr>\n",
       "    <tr>\n",
       "      <th>75%</th>\n",
       "      <td>3.180000e+00</td>\n",
       "      <td>2.330000e+02</td>\n",
       "      <td>2.330000e+02</td>\n",
       "      <td>1.500000e+01</td>\n",
       "    </tr>\n",
       "    <tr>\n",
       "      <th>max</th>\n",
       "      <td>1.012000e+02</td>\n",
       "      <td>2.650000e+02</td>\n",
       "      <td>2.650000e+02</td>\n",
       "      <td>1.500000e+02</td>\n",
       "    </tr>\n",
       "  </tbody>\n",
       "</table>\n",
       "</div>"
      ],
      "text/plain": [
       "       trip_distance  pickup_location_ID  dropoff_location_ID   fare_amount\n",
       "count   6.863199e+06        6.863199e+06         6.863199e+06  6.863199e+06\n",
       "mean    3.093636e+00        1.623078e+02         1.605670e+02  1.349201e+01\n",
       "std     3.940528e+00        6.631271e+01         7.034863e+01  1.159720e+01\n",
       "min     1.000000e-02        1.000000e+00         1.000000e+00  2.500000e+00\n",
       "25%     1.000000e+00        1.140000e+02         1.070000e+02  6.500000e+00\n",
       "50%     1.700000e+00        1.610000e+02         1.620000e+02  9.500000e+00\n",
       "75%     3.180000e+00        2.330000e+02         2.330000e+02  1.500000e+01\n",
       "max     1.012000e+02        2.650000e+02         2.650000e+02  1.500000e+02"
      ]
     },
     "execution_count": 539,
     "metadata": {},
     "output_type": "execute_result"
    }
   ],
   "source": [
    "trip_DF.describe()"
   ]
  },
  {
   "cell_type": "code",
   "execution_count": 540,
   "metadata": {
    "id": "cXm1g3L-XV0R"
   },
   "outputs": [],
   "source": [
    "time_of_day_bins = ['PU_time_2AM-5:59AM', 'PU_time_6AM-9:59AM',\n",
    "               'PU_time_10AM-1:59PM', 'PU_time_2PM-5:59PM',\n",
    "               'PU_time_6PM-9:59PM', 'PU_time_10PM-1:59AM']\n",
    "\n",
    "def get_time_of_day_bin(timestamp, time_of_day_bins):\n",
    "  if 2 <= timestamp.hour and timestamp.hour < 6:\n",
    "    return time_of_day_bins[0]\n",
    "  elif 6 <= timestamp.hour and timestamp.hour < 10:\n",
    "    return time_of_day_bins[1]\n",
    "  elif 10 <= timestamp.hour and timestamp.hour < 14:\n",
    "    return time_of_day_bins[2]\n",
    "  elif 14 <= timestamp.hour and timestamp.hour < 18:\n",
    "    return time_of_day_bins[3]\n",
    "  elif 18 <= timestamp.hour and timestamp.hour < 22:\n",
    "    return time_of_day_bins[4]\n",
    "  else:\n",
    "    return time_of_day_bins[5]"
   ]
  },
  {
   "cell_type": "code",
   "execution_count": 541,
   "metadata": {
    "id": "2bfiW31mV6Ef"
   },
   "outputs": [],
   "source": [
    "def append_and_fill_time_of_day_bins(df, time_of_day_bins):\n",
    "  for time_bin in time_of_day_bins:\n",
    "    print(time_bin)\n",
    "    df[time_bin] = df['pickup_datetime'].map(lambda timestamp: 1 if get_time_of_day_bin(timestamp, time_of_day_bins) == time_bin else 0)"
   ]
  },
  {
   "cell_type": "code",
   "execution_count": 542,
   "metadata": {
    "colab": {
     "base_uri": "https://localhost:8080/"
    },
    "id": "liugPYkFa5QB",
    "outputId": "965caf7c-6d05-4c8a-a812-959cbd20c056"
   },
   "outputs": [
    {
     "name": "stdout",
     "output_type": "stream",
     "text": [
      "PU_time_2AM-5:59AM\n",
      "PU_time_6AM-9:59AM\n",
      "PU_time_10AM-1:59PM\n",
      "PU_time_2PM-5:59PM\n",
      "PU_time_6PM-9:59PM\n",
      "PU_time_10PM-1:59AM\n"
     ]
    }
   ],
   "source": [
    "append_and_fill_time_of_day_bins(trip_DF, time_of_day_bins)"
   ]
  },
  {
   "cell_type": "code",
   "execution_count": 543,
   "metadata": {
    "id": "jmLnr-FgwZR3"
   },
   "outputs": [],
   "source": [
    "weekend_days = [5, 6]\n",
    "us_holidays = holidays.US()\n",
    "def is_weekend_or_holiday(date):\n",
    "  date_day = date.day\n",
    "  stringified_date = str(date)\n",
    "  if date_day in weekend_days:\n",
    "    return True\n",
    "  elif stringified_date in us_holidays:\n",
    "    return True\n",
    "  else:\n",
    "    return False"
   ]
  },
  {
   "cell_type": "code",
   "execution_count": 544,
   "metadata": {},
   "outputs": [],
   "source": [
    "def calculate_haversine_distance(lon1, lat1, lon2, lat2):\n",
    "  lon1, lat1, lon2, lat2 = map(np.radians, [lon1, lat1, lon2, lat2])\n",
    "  lon_diff = lon2 - lon1\n",
    "  lat_diff = lat2 - lat1\n",
    "  a = np.sin(lat_diff/2.0)**2 + np.cos(lat1) * np.cos(lat2) * np.sin(lon_diff/2.0)**2\n",
    "  c = 2 * np.arcsin(np.sqrt(a))\n",
    "  earth_radius_mi = 3956 # radius of Earth in miles\n",
    "  mi = earth_radius_mi * c\n",
    "  return mi"
   ]
  },
  {
   "cell_type": "code",
   "execution_count": 545,
   "metadata": {
    "id": "fapHmMbJnlwG"
   },
   "outputs": [],
   "source": [
    "trip_DF['pickup_date'] = trip_DF['pickup_datetime'].map(lambda timestamp: timestamp.date())"
   ]
  },
  {
   "cell_type": "code",
   "execution_count": 546,
   "metadata": {
    "id": "Jn5wdYloGxka"
   },
   "outputs": [],
   "source": [
    "def create_avg_fare_df(df):\n",
    "  fare_prediction_df = df.groupby([\"pickup_location_ID\", \"dropoff_location_ID\", \"pickup_date\"] + time_of_day_bins, as_index=False).agg(avg_fare=('fare_amount', 'mean'))\n",
    "  return fare_prediction_df"
   ]
  },
  {
   "cell_type": "code",
   "execution_count": 547,
   "metadata": {
    "id": "x1LyBHogo3sZ"
   },
   "outputs": [],
   "source": [
    "trip_avg_fare_DF = create_avg_fare_df(trip_DF)"
   ]
  },
  {
   "cell_type": "code",
   "execution_count": 548,
   "metadata": {
    "id": "iMl4EOd9vIF5"
   },
   "outputs": [],
   "source": [
    "# if trips occur on weekend or US holiday\n",
    "trip_avg_fare_DF['weekend/holiday'] = trip_avg_fare_DF['pickup_date'].map(lambda date: 1 if is_weekend_or_holiday(date) else 0)"
   ]
  },
  {
   "cell_type": "code",
   "execution_count": 549,
   "metadata": {
    "id": "GNEuOyFLO71U"
   },
   "outputs": [],
   "source": [
    "## Enforce that pickup and dropoff IDs are ints\n",
    "trip_avg_fare_DF = trip_avg_fare_DF.astype({\"pickup_location_ID\": int, \"dropoff_location_ID\": int})"
   ]
  },
  {
   "cell_type": "code",
   "execution_count": 550,
   "metadata": {},
   "outputs": [],
   "source": [
    "trip_avg_fare_DF = trip_avg_fare_DF.merge(zone_lat_long_lookup, how='left', left_on='pickup_location_ID', right_on='LocationID')\n",
    "trip_avg_fare_DF.dropna(inplace=True)\n",
    "trip_avg_fare_DF.rename(columns={\n",
    "    'X': 'PU_longitude',\n",
    "    'Y': 'PU_latitude'\n",
    "}, inplace=True)\n",
    "del trip_avg_fare_DF['LocationID']"
   ]
  },
  {
   "cell_type": "code",
   "execution_count": 551,
   "metadata": {},
   "outputs": [],
   "source": [
    "trip_avg_fare_DF = trip_avg_fare_DF.merge(zone_lat_long_lookup, how='left', left_on='dropoff_location_ID', right_on='LocationID')\n",
    "trip_avg_fare_DF.dropna(inplace=True)\n",
    "trip_avg_fare_DF.rename(columns={\n",
    "    'X': 'DO_longitude',\n",
    "    'Y': 'DO_latitude'\n",
    "}, inplace=True)\n",
    "del trip_avg_fare_DF['LocationID']"
   ]
  },
  {
   "cell_type": "code",
   "execution_count": 552,
   "metadata": {},
   "outputs": [
    {
     "data": {
      "text/html": [
       "<div>\n",
       "<style scoped>\n",
       "    .dataframe tbody tr th:only-of-type {\n",
       "        vertical-align: middle;\n",
       "    }\n",
       "\n",
       "    .dataframe tbody tr th {\n",
       "        vertical-align: top;\n",
       "    }\n",
       "\n",
       "    .dataframe thead th {\n",
       "        text-align: right;\n",
       "    }\n",
       "</style>\n",
       "<table border=\"1\" class=\"dataframe\">\n",
       "  <thead>\n",
       "    <tr style=\"text-align: right;\">\n",
       "      <th></th>\n",
       "      <th>pickup_location_ID</th>\n",
       "      <th>dropoff_location_ID</th>\n",
       "      <th>pickup_date</th>\n",
       "      <th>PU_time_2AM-5:59AM</th>\n",
       "      <th>PU_time_6AM-9:59AM</th>\n",
       "      <th>PU_time_10AM-1:59PM</th>\n",
       "      <th>PU_time_2PM-5:59PM</th>\n",
       "      <th>PU_time_6PM-9:59PM</th>\n",
       "      <th>PU_time_10PM-1:59AM</th>\n",
       "      <th>avg_fare</th>\n",
       "      <th>weekend/holiday</th>\n",
       "      <th>PU_longitude</th>\n",
       "      <th>PU_latitude</th>\n",
       "      <th>DO_longitude</th>\n",
       "      <th>DO_latitude</th>\n",
       "    </tr>\n",
       "  </thead>\n",
       "  <tbody>\n",
       "    <tr>\n",
       "      <th>0</th>\n",
       "      <td>1</td>\n",
       "      <td>1</td>\n",
       "      <td>2019-06-02</td>\n",
       "      <td>0</td>\n",
       "      <td>0</td>\n",
       "      <td>0</td>\n",
       "      <td>0</td>\n",
       "      <td>1</td>\n",
       "      <td>0</td>\n",
       "      <td>127.000000</td>\n",
       "      <td>0</td>\n",
       "      <td>-74.176786</td>\n",
       "      <td>40.689516</td>\n",
       "      <td>-74.176786</td>\n",
       "      <td>40.689516</td>\n",
       "    </tr>\n",
       "    <tr>\n",
       "      <th>1</th>\n",
       "      <td>1</td>\n",
       "      <td>1</td>\n",
       "      <td>2019-06-02</td>\n",
       "      <td>0</td>\n",
       "      <td>0</td>\n",
       "      <td>0</td>\n",
       "      <td>1</td>\n",
       "      <td>0</td>\n",
       "      <td>0</td>\n",
       "      <td>109.500000</td>\n",
       "      <td>0</td>\n",
       "      <td>-74.176786</td>\n",
       "      <td>40.689516</td>\n",
       "      <td>-74.176786</td>\n",
       "      <td>40.689516</td>\n",
       "    </tr>\n",
       "    <tr>\n",
       "      <th>2</th>\n",
       "      <td>1</td>\n",
       "      <td>1</td>\n",
       "      <td>2019-06-02</td>\n",
       "      <td>0</td>\n",
       "      <td>1</td>\n",
       "      <td>0</td>\n",
       "      <td>0</td>\n",
       "      <td>0</td>\n",
       "      <td>0</td>\n",
       "      <td>20.000000</td>\n",
       "      <td>0</td>\n",
       "      <td>-74.176786</td>\n",
       "      <td>40.689516</td>\n",
       "      <td>-74.176786</td>\n",
       "      <td>40.689516</td>\n",
       "    </tr>\n",
       "    <tr>\n",
       "      <th>3</th>\n",
       "      <td>1</td>\n",
       "      <td>1</td>\n",
       "      <td>2019-06-03</td>\n",
       "      <td>0</td>\n",
       "      <td>0</td>\n",
       "      <td>0</td>\n",
       "      <td>0</td>\n",
       "      <td>1</td>\n",
       "      <td>0</td>\n",
       "      <td>47.000000</td>\n",
       "      <td>0</td>\n",
       "      <td>-74.176786</td>\n",
       "      <td>40.689516</td>\n",
       "      <td>-74.176786</td>\n",
       "      <td>40.689516</td>\n",
       "    </tr>\n",
       "    <tr>\n",
       "      <th>4</th>\n",
       "      <td>1</td>\n",
       "      <td>1</td>\n",
       "      <td>2019-06-03</td>\n",
       "      <td>0</td>\n",
       "      <td>0</td>\n",
       "      <td>1</td>\n",
       "      <td>0</td>\n",
       "      <td>0</td>\n",
       "      <td>0</td>\n",
       "      <td>89.250000</td>\n",
       "      <td>0</td>\n",
       "      <td>-74.176786</td>\n",
       "      <td>40.689516</td>\n",
       "      <td>-74.176786</td>\n",
       "      <td>40.689516</td>\n",
       "    </tr>\n",
       "    <tr>\n",
       "      <th>...</th>\n",
       "      <td>...</td>\n",
       "      <td>...</td>\n",
       "      <td>...</td>\n",
       "      <td>...</td>\n",
       "      <td>...</td>\n",
       "      <td>...</td>\n",
       "      <td>...</td>\n",
       "      <td>...</td>\n",
       "      <td>...</td>\n",
       "      <td>...</td>\n",
       "      <td>...</td>\n",
       "      <td>...</td>\n",
       "      <td>...</td>\n",
       "      <td>...</td>\n",
       "      <td>...</td>\n",
       "    </tr>\n",
       "    <tr>\n",
       "      <th>836569</th>\n",
       "      <td>263</td>\n",
       "      <td>263</td>\n",
       "      <td>2019-06-30</td>\n",
       "      <td>0</td>\n",
       "      <td>0</td>\n",
       "      <td>0</td>\n",
       "      <td>0</td>\n",
       "      <td>1</td>\n",
       "      <td>0</td>\n",
       "      <td>4.600000</td>\n",
       "      <td>0</td>\n",
       "      <td>-73.951208</td>\n",
       "      <td>40.778496</td>\n",
       "      <td>-73.951208</td>\n",
       "      <td>40.778496</td>\n",
       "    </tr>\n",
       "    <tr>\n",
       "      <th>836570</th>\n",
       "      <td>263</td>\n",
       "      <td>263</td>\n",
       "      <td>2019-06-30</td>\n",
       "      <td>0</td>\n",
       "      <td>0</td>\n",
       "      <td>0</td>\n",
       "      <td>1</td>\n",
       "      <td>0</td>\n",
       "      <td>0</td>\n",
       "      <td>4.945455</td>\n",
       "      <td>0</td>\n",
       "      <td>-73.951208</td>\n",
       "      <td>40.778496</td>\n",
       "      <td>-73.951208</td>\n",
       "      <td>40.778496</td>\n",
       "    </tr>\n",
       "    <tr>\n",
       "      <th>836571</th>\n",
       "      <td>263</td>\n",
       "      <td>263</td>\n",
       "      <td>2019-06-30</td>\n",
       "      <td>0</td>\n",
       "      <td>0</td>\n",
       "      <td>1</td>\n",
       "      <td>0</td>\n",
       "      <td>0</td>\n",
       "      <td>0</td>\n",
       "      <td>4.320755</td>\n",
       "      <td>0</td>\n",
       "      <td>-73.951208</td>\n",
       "      <td>40.778496</td>\n",
       "      <td>-73.951208</td>\n",
       "      <td>40.778496</td>\n",
       "    </tr>\n",
       "    <tr>\n",
       "      <th>836572</th>\n",
       "      <td>263</td>\n",
       "      <td>263</td>\n",
       "      <td>2019-06-30</td>\n",
       "      <td>0</td>\n",
       "      <td>1</td>\n",
       "      <td>0</td>\n",
       "      <td>0</td>\n",
       "      <td>0</td>\n",
       "      <td>0</td>\n",
       "      <td>9.333333</td>\n",
       "      <td>0</td>\n",
       "      <td>-73.951208</td>\n",
       "      <td>40.778496</td>\n",
       "      <td>-73.951208</td>\n",
       "      <td>40.778496</td>\n",
       "    </tr>\n",
       "    <tr>\n",
       "      <th>836573</th>\n",
       "      <td>263</td>\n",
       "      <td>263</td>\n",
       "      <td>2019-06-30</td>\n",
       "      <td>1</td>\n",
       "      <td>0</td>\n",
       "      <td>0</td>\n",
       "      <td>0</td>\n",
       "      <td>0</td>\n",
       "      <td>0</td>\n",
       "      <td>4.400000</td>\n",
       "      <td>0</td>\n",
       "      <td>-73.951208</td>\n",
       "      <td>40.778496</td>\n",
       "      <td>-73.951208</td>\n",
       "      <td>40.778496</td>\n",
       "    </tr>\n",
       "  </tbody>\n",
       "</table>\n",
       "<p>828293 rows × 15 columns</p>\n",
       "</div>"
      ],
      "text/plain": [
       "        pickup_location_ID  dropoff_location_ID pickup_date  \\\n",
       "0                        1                    1  2019-06-02   \n",
       "1                        1                    1  2019-06-02   \n",
       "2                        1                    1  2019-06-02   \n",
       "3                        1                    1  2019-06-03   \n",
       "4                        1                    1  2019-06-03   \n",
       "...                    ...                  ...         ...   \n",
       "836569                 263                  263  2019-06-30   \n",
       "836570                 263                  263  2019-06-30   \n",
       "836571                 263                  263  2019-06-30   \n",
       "836572                 263                  263  2019-06-30   \n",
       "836573                 263                  263  2019-06-30   \n",
       "\n",
       "        PU_time_2AM-5:59AM  PU_time_6AM-9:59AM  PU_time_10AM-1:59PM  \\\n",
       "0                        0                   0                    0   \n",
       "1                        0                   0                    0   \n",
       "2                        0                   1                    0   \n",
       "3                        0                   0                    0   \n",
       "4                        0                   0                    1   \n",
       "...                    ...                 ...                  ...   \n",
       "836569                   0                   0                    0   \n",
       "836570                   0                   0                    0   \n",
       "836571                   0                   0                    1   \n",
       "836572                   0                   1                    0   \n",
       "836573                   1                   0                    0   \n",
       "\n",
       "        PU_time_2PM-5:59PM  PU_time_6PM-9:59PM  PU_time_10PM-1:59AM  \\\n",
       "0                        0                   1                    0   \n",
       "1                        1                   0                    0   \n",
       "2                        0                   0                    0   \n",
       "3                        0                   1                    0   \n",
       "4                        0                   0                    0   \n",
       "...                    ...                 ...                  ...   \n",
       "836569                   0                   1                    0   \n",
       "836570                   1                   0                    0   \n",
       "836571                   0                   0                    0   \n",
       "836572                   0                   0                    0   \n",
       "836573                   0                   0                    0   \n",
       "\n",
       "          avg_fare  weekend/holiday  PU_longitude  PU_latitude  DO_longitude  \\\n",
       "0       127.000000                0    -74.176786    40.689516    -74.176786   \n",
       "1       109.500000                0    -74.176786    40.689516    -74.176786   \n",
       "2        20.000000                0    -74.176786    40.689516    -74.176786   \n",
       "3        47.000000                0    -74.176786    40.689516    -74.176786   \n",
       "4        89.250000                0    -74.176786    40.689516    -74.176786   \n",
       "...            ...              ...           ...          ...           ...   \n",
       "836569    4.600000                0    -73.951208    40.778496    -73.951208   \n",
       "836570    4.945455                0    -73.951208    40.778496    -73.951208   \n",
       "836571    4.320755                0    -73.951208    40.778496    -73.951208   \n",
       "836572    9.333333                0    -73.951208    40.778496    -73.951208   \n",
       "836573    4.400000                0    -73.951208    40.778496    -73.951208   \n",
       "\n",
       "        DO_latitude  \n",
       "0         40.689516  \n",
       "1         40.689516  \n",
       "2         40.689516  \n",
       "3         40.689516  \n",
       "4         40.689516  \n",
       "...             ...  \n",
       "836569    40.778496  \n",
       "836570    40.778496  \n",
       "836571    40.778496  \n",
       "836572    40.778496  \n",
       "836573    40.778496  \n",
       "\n",
       "[828293 rows x 15 columns]"
      ]
     },
     "execution_count": 552,
     "metadata": {},
     "output_type": "execute_result"
    }
   ],
   "source": [
    "trip_avg_fare_DF"
   ]
  },
  {
   "cell_type": "code",
   "execution_count": 553,
   "metadata": {
    "colab": {
     "base_uri": "https://localhost:8080/"
    },
    "id": "dDY8MYdi2tY4",
    "outputId": "0f299937-7eef-4970-cf96-d6fb572fefd8"
   },
   "outputs": [],
   "source": [
    "trip_avg_fare_DF['distance'] = trip_avg_fare_DF.apply(\n",
    "    lambda row: calculate_haversine_distance(\n",
    "        row['PU_longitude'],\n",
    "        row['PU_latitude'],\n",
    "        row['DO_longitude'],\n",
    "        row['DO_latitude']\n",
    "    ), axis=1\n",
    ")"
   ]
  },
  {
   "cell_type": "code",
   "execution_count": 554,
   "metadata": {},
   "outputs": [
    {
     "data": {
      "text/html": [
       "<div>\n",
       "<style scoped>\n",
       "    .dataframe tbody tr th:only-of-type {\n",
       "        vertical-align: middle;\n",
       "    }\n",
       "\n",
       "    .dataframe tbody tr th {\n",
       "        vertical-align: top;\n",
       "    }\n",
       "\n",
       "    .dataframe thead th {\n",
       "        text-align: right;\n",
       "    }\n",
       "</style>\n",
       "<table border=\"1\" class=\"dataframe\">\n",
       "  <thead>\n",
       "    <tr style=\"text-align: right;\">\n",
       "      <th></th>\n",
       "      <th>pickup_location_ID</th>\n",
       "      <th>dropoff_location_ID</th>\n",
       "      <th>PU_time_2AM-5:59AM</th>\n",
       "      <th>PU_time_6AM-9:59AM</th>\n",
       "      <th>PU_time_10AM-1:59PM</th>\n",
       "      <th>PU_time_2PM-5:59PM</th>\n",
       "      <th>PU_time_6PM-9:59PM</th>\n",
       "      <th>PU_time_10PM-1:59AM</th>\n",
       "      <th>avg_fare</th>\n",
       "      <th>weekend/holiday</th>\n",
       "      <th>PU_longitude</th>\n",
       "      <th>PU_latitude</th>\n",
       "      <th>DO_longitude</th>\n",
       "      <th>DO_latitude</th>\n",
       "      <th>distance</th>\n",
       "    </tr>\n",
       "  </thead>\n",
       "  <tbody>\n",
       "    <tr>\n",
       "      <th>count</th>\n",
       "      <td>828293.000000</td>\n",
       "      <td>828293.000000</td>\n",
       "      <td>828293.000000</td>\n",
       "      <td>828293.000000</td>\n",
       "      <td>828293.000000</td>\n",
       "      <td>828293.000000</td>\n",
       "      <td>828293.000000</td>\n",
       "      <td>828293.000000</td>\n",
       "      <td>828293.000000</td>\n",
       "      <td>828293.000000</td>\n",
       "      <td>828293.000000</td>\n",
       "      <td>828293.000000</td>\n",
       "      <td>828293.000000</td>\n",
       "      <td>828293.000000</td>\n",
       "      <td>828293.000000</td>\n",
       "    </tr>\n",
       "    <tr>\n",
       "      <th>mean</th>\n",
       "      <td>147.778656</td>\n",
       "      <td>142.116276</td>\n",
       "      <td>0.117524</td>\n",
       "      <td>0.153423</td>\n",
       "      <td>0.163800</td>\n",
       "      <td>0.176953</td>\n",
       "      <td>0.192118</td>\n",
       "      <td>0.196183</td>\n",
       "      <td>20.378822</td>\n",
       "      <td>0.066239</td>\n",
       "      <td>-73.963840</td>\n",
       "      <td>40.744613</td>\n",
       "      <td>-73.958852</td>\n",
       "      <td>40.743923</td>\n",
       "      <td>3.882565</td>\n",
       "    </tr>\n",
       "    <tr>\n",
       "      <th>std</th>\n",
       "      <td>70.743658</td>\n",
       "      <td>75.642933</td>\n",
       "      <td>0.322043</td>\n",
       "      <td>0.360395</td>\n",
       "      <td>0.370094</td>\n",
       "      <td>0.381629</td>\n",
       "      <td>0.393966</td>\n",
       "      <td>0.397109</td>\n",
       "      <td>13.684319</td>\n",
       "      <td>0.248699</td>\n",
       "      <td>0.052903</td>\n",
       "      <td>0.040203</td>\n",
       "      <td>0.054683</td>\n",
       "      <td>0.051466</td>\n",
       "      <td>3.186382</td>\n",
       "    </tr>\n",
       "    <tr>\n",
       "      <th>min</th>\n",
       "      <td>1.000000</td>\n",
       "      <td>1.000000</td>\n",
       "      <td>0.000000</td>\n",
       "      <td>0.000000</td>\n",
       "      <td>0.000000</td>\n",
       "      <td>0.000000</td>\n",
       "      <td>0.000000</td>\n",
       "      <td>0.000000</td>\n",
       "      <td>2.500000</td>\n",
       "      <td>0.000000</td>\n",
       "      <td>-74.229547</td>\n",
       "      <td>40.527298</td>\n",
       "      <td>-74.229547</td>\n",
       "      <td>40.527298</td>\n",
       "      <td>0.000000</td>\n",
       "    </tr>\n",
       "    <tr>\n",
       "      <th>25%</th>\n",
       "      <td>90.000000</td>\n",
       "      <td>79.000000</td>\n",
       "      <td>0.000000</td>\n",
       "      <td>0.000000</td>\n",
       "      <td>0.000000</td>\n",
       "      <td>0.000000</td>\n",
       "      <td>0.000000</td>\n",
       "      <td>0.000000</td>\n",
       "      <td>10.500000</td>\n",
       "      <td>0.000000</td>\n",
       "      <td>-73.993899</td>\n",
       "      <td>40.723899</td>\n",
       "      <td>-73.990718</td>\n",
       "      <td>40.713058</td>\n",
       "      <td>1.624277</td>\n",
       "    </tr>\n",
       "    <tr>\n",
       "      <th>50%</th>\n",
       "      <td>143.000000</td>\n",
       "      <td>143.000000</td>\n",
       "      <td>0.000000</td>\n",
       "      <td>0.000000</td>\n",
       "      <td>0.000000</td>\n",
       "      <td>0.000000</td>\n",
       "      <td>0.000000</td>\n",
       "      <td>0.000000</td>\n",
       "      <td>16.666667</td>\n",
       "      <td>0.000000</td>\n",
       "      <td>-73.978367</td>\n",
       "      <td>40.748476</td>\n",
       "      <td>-73.972815</td>\n",
       "      <td>40.747654</td>\n",
       "      <td>2.974037</td>\n",
       "    </tr>\n",
       "    <tr>\n",
       "      <th>75%</th>\n",
       "      <td>225.000000</td>\n",
       "      <td>220.000000</td>\n",
       "      <td>0.000000</td>\n",
       "      <td>0.000000</td>\n",
       "      <td>0.000000</td>\n",
       "      <td>0.000000</td>\n",
       "      <td>0.000000</td>\n",
       "      <td>0.000000</td>\n",
       "      <td>26.000000</td>\n",
       "      <td>0.000000</td>\n",
       "      <td>-73.956972</td>\n",
       "      <td>40.768542</td>\n",
       "      <td>-73.942329</td>\n",
       "      <td>40.773906</td>\n",
       "      <td>5.114533</td>\n",
       "    </tr>\n",
       "    <tr>\n",
       "      <th>max</th>\n",
       "      <td>263.000000</td>\n",
       "      <td>263.000000</td>\n",
       "      <td>1.000000</td>\n",
       "      <td>1.000000</td>\n",
       "      <td>1.000000</td>\n",
       "      <td>1.000000</td>\n",
       "      <td>1.000000</td>\n",
       "      <td>1.000000</td>\n",
       "      <td>150.000000</td>\n",
       "      <td>1.000000</td>\n",
       "      <td>-73.709071</td>\n",
       "      <td>40.899860</td>\n",
       "      <td>-73.709071</td>\n",
       "      <td>40.899860</td>\n",
       "      <td>26.423242</td>\n",
       "    </tr>\n",
       "  </tbody>\n",
       "</table>\n",
       "</div>"
      ],
      "text/plain": [
       "       pickup_location_ID  dropoff_location_ID  PU_time_2AM-5:59AM  \\\n",
       "count       828293.000000        828293.000000       828293.000000   \n",
       "mean           147.778656           142.116276            0.117524   \n",
       "std             70.743658            75.642933            0.322043   \n",
       "min              1.000000             1.000000            0.000000   \n",
       "25%             90.000000            79.000000            0.000000   \n",
       "50%            143.000000           143.000000            0.000000   \n",
       "75%            225.000000           220.000000            0.000000   \n",
       "max            263.000000           263.000000            1.000000   \n",
       "\n",
       "       PU_time_6AM-9:59AM  PU_time_10AM-1:59PM  PU_time_2PM-5:59PM  \\\n",
       "count       828293.000000        828293.000000       828293.000000   \n",
       "mean             0.153423             0.163800            0.176953   \n",
       "std              0.360395             0.370094            0.381629   \n",
       "min              0.000000             0.000000            0.000000   \n",
       "25%              0.000000             0.000000            0.000000   \n",
       "50%              0.000000             0.000000            0.000000   \n",
       "75%              0.000000             0.000000            0.000000   \n",
       "max              1.000000             1.000000            1.000000   \n",
       "\n",
       "       PU_time_6PM-9:59PM  PU_time_10PM-1:59AM       avg_fare  \\\n",
       "count       828293.000000        828293.000000  828293.000000   \n",
       "mean             0.192118             0.196183      20.378822   \n",
       "std              0.393966             0.397109      13.684319   \n",
       "min              0.000000             0.000000       2.500000   \n",
       "25%              0.000000             0.000000      10.500000   \n",
       "50%              0.000000             0.000000      16.666667   \n",
       "75%              0.000000             0.000000      26.000000   \n",
       "max              1.000000             1.000000     150.000000   \n",
       "\n",
       "       weekend/holiday   PU_longitude    PU_latitude   DO_longitude  \\\n",
       "count    828293.000000  828293.000000  828293.000000  828293.000000   \n",
       "mean          0.066239     -73.963840      40.744613     -73.958852   \n",
       "std           0.248699       0.052903       0.040203       0.054683   \n",
       "min           0.000000     -74.229547      40.527298     -74.229547   \n",
       "25%           0.000000     -73.993899      40.723899     -73.990718   \n",
       "50%           0.000000     -73.978367      40.748476     -73.972815   \n",
       "75%           0.000000     -73.956972      40.768542     -73.942329   \n",
       "max           1.000000     -73.709071      40.899860     -73.709071   \n",
       "\n",
       "         DO_latitude       distance  \n",
       "count  828293.000000  828293.000000  \n",
       "mean       40.743923       3.882565  \n",
       "std         0.051466       3.186382  \n",
       "min        40.527298       0.000000  \n",
       "25%        40.713058       1.624277  \n",
       "50%        40.747654       2.974037  \n",
       "75%        40.773906       5.114533  \n",
       "max        40.899860      26.423242  "
      ]
     },
     "execution_count": 554,
     "metadata": {},
     "output_type": "execute_result"
    }
   ],
   "source": [
    "trip_avg_fare_DF.describe()"
   ]
  },
  {
   "cell_type": "code",
   "execution_count": 555,
   "metadata": {
    "colab": {
     "base_uri": "https://localhost:8080/",
     "height": 335
    },
    "id": "FkWvat04_vt7",
    "outputId": "cef5f6f8-f027-4dfc-9b66-33984345f280"
   },
   "outputs": [
    {
     "data": {
      "text/plain": [
       "array([[<matplotlib.axes._subplots.AxesSubplot object at 0x22557ea10>]],\n",
       "      dtype=object)"
      ]
     },
     "execution_count": 555,
     "metadata": {},
     "output_type": "execute_result"
    },
    {
     "data": {
      "image/png": "[encoded data removed]",
      "text/plain": [
       "<Figure size 432x288 with 1 Axes>"
      ]
     },
     "metadata": {
      "needs_background": "light"
     },
     "output_type": "display_data"
    }
   ],
   "source": [
    "trip_avg_fare_DF.hist(column=\"avg_fare\", bins=10)"
   ]
  },
  {
   "cell_type": "code",
   "execution_count": 556,
   "metadata": {},
   "outputs": [
    {
     "data": {
      "text/plain": [
       "array([[<matplotlib.axes._subplots.AxesSubplot object at 0x23848c450>]],\n",
       "      dtype=object)"
      ]
     },
     "execution_count": 556,
     "metadata": {},
     "output_type": "execute_result"
    },
    {
     "data": {
      "image/png": "[encoded data removed]",
      "text/plain": [
       "<Figure size 432x288 with 1 Axes>"
      ]
     },
     "metadata": {
      "needs_background": "light"
     },
     "output_type": "display_data"
    }
   ],
   "source": [
    "trip_avg_fare_DF.hist(column=\"distance\", bins=20)"
   ]
  },
  {
   "cell_type": "code",
   "execution_count": 557,
   "metadata": {
    "id": "MegcZiK9HKeV"
   },
   "outputs": [],
   "source": [
    "## Need to drop the following columns when doing training & testing\n",
    "## 1. pickup_location_ID\n",
    "## 2. dropoff_location_ID\n",
    "## 3. pickup_date\n",
    "## 4. avg_fare as this is the target"
   ]
  },
  {
   "cell_type": "code",
   "execution_count": 558,
   "metadata": {
    "id": "_ILT28gqoTPr"
   },
   "outputs": [],
   "source": [
    "# ## Construct 1-hot vectors for pickup and dropoff locations\n",
    "# ## There are 265 unique location IDs\n",
    "# location_IDs = [i for i in range(1, 266)]"
   ]
  },
  {
   "cell_type": "code",
   "execution_count": 559,
   "metadata": {
    "id": "PglSS8n1ARZ0"
   },
   "outputs": [],
   "source": [
    "# trip_avg_fare_DF['pickup_location_ID'] = trip_avg_fare_DF['pickup_location_ID'].astype(CategoricalDtype(location_IDs))\n",
    "# trip_avg_fare_DF['dropoff_location_ID'] = trip_avg_fare_DF['dropoff_location_ID'].astype(CategoricalDtype(location_IDs))\n",
    "# trip_avg_fare_DF = pd.concat([trip_avg_fare_DF, pd.get_dummies(trip_avg_fare_DF['pickup_location_ID'], prefix='PU_ID')], axis=1)\n",
    "# trip_avg_fare_DF = pd.concat([trip_avg_fare_DF, pd.get_dummies(trip_avg_fare_DF['dropoff_location_ID'], prefix='DO_ID')], axis=1)"
   ]
  },
  {
   "cell_type": "code",
   "execution_count": 560,
   "metadata": {},
   "outputs": [],
   "source": [
    "# rearrange columns\n",
    "cols = trip_avg_fare_DF.columns.tolist()\n",
    "cols = [\n",
    " 'pickup_location_ID',\n",
    " 'dropoff_location_ID',\n",
    " 'pickup_date',\n",
    " 'avg_fare',\n",
    " 'PU_time_2AM-5:59AM',\n",
    " 'PU_time_6AM-9:59AM',\n",
    " 'PU_time_10AM-1:59PM',\n",
    " 'PU_time_2PM-5:59PM',\n",
    " 'PU_time_6PM-9:59PM',\n",
    " 'PU_time_10PM-1:59AM',\n",
    " 'weekend/holiday',\n",
    " 'PU_longitude',\n",
    " 'PU_latitude',\n",
    " 'DO_longitude',\n",
    " 'DO_latitude',\n",
    " 'distance'\n",
    "]\n",
    "trip_avg_fare_DF = trip_avg_fare_DF[cols]"
   ]
  },
  {
   "cell_type": "code",
   "execution_count": 561,
   "metadata": {
    "id": "jGhlEj9FgBjr"
   },
   "outputs": [],
   "source": [
    "agg_fare_path = path + '_avg_fare'\n",
    "trip_avg_fare_DF.to_csv('./agg_taxi_fare_data/' + agg_fare_path + '.csv') "
   ]
  },
  {
   "cell_type": "code",
   "execution_count": 562,
   "metadata": {
    "colab": {
     "base_uri": "https://localhost:8080/"
    },
    "id": "prejGmyHkP0a",
    "outputId": "be63a8be-b2c1-4ef6-e403-3a01d730dbcc"
   },
   "outputs": [
    {
     "data": {
      "text/plain": [
       "(828293, 16)"
      ]
     },
     "execution_count": 562,
     "metadata": {},
     "output_type": "execute_result"
    }
   ],
   "source": [
    "trip_avg_fare_DF.shape"
   ]
  },
  {
   "cell_type": "code",
   "execution_count": 563,
   "metadata": {},
   "outputs": [
    {
     "data": {
      "text/plain": [
       "0"
      ]
     },
     "execution_count": 563,
     "metadata": {},
     "output_type": "execute_result"
    }
   ],
   "source": [
    "os.system(\"printf '\\a'\")"
   ]
  }
 ],
 "metadata": {
  "colab": {
   "collapsed_sections": [],
   "name": "fare_prediction_dataset.ipynb",
   "provenance": []
  },
  "kernelspec": {
   "display_name": "Python 3",
   "language": "python",
   "name": "python3"
  },
  "language_info": {
   "codemirror_mode": {
    "name": "ipython",
    "version": 3
   },
   "file_extension": ".py",
   "mimetype": "text/x-python",
   "name": "python",
   "nbconvert_exporter": "python",
   "pygments_lexer": "ipython3",
   "version": "3.7.6"
  }
 },
 "nbformat": 4,
 "nbformat_minor": 1
}
