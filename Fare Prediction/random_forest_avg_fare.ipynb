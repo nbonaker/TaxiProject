{
 "cells": [
  {
   "cell_type": "code",
   "execution_count": 1,
   "metadata": {},
   "outputs": [],
   "source": [
    "import pandas as pd\n",
    "import numpy as np\n",
    "from sklearn.ensemble import RandomForestRegressor \n",
    "from sklearn.metrics import mean_squared_error as mse\n",
    "from matplotlib import pyplot as plt"
   ]
  },
  {
   "cell_type": "code",
   "execution_count": 2,
   "metadata": {},
   "outputs": [],
   "source": [
    "## Need to drop the following columns when doing training, validation, and testing\n",
    "## 1. pickup_location_ID\n",
    "## 2. dropoff_location_ID\n",
    "## 3. pickup_date\n",
    "## 4. avg_fare as this is the target\n"
   ]
  },
  {
   "cell_type": "code",
   "execution_count": 3,
   "metadata": {},
   "outputs": [],
   "source": [
    "def drop_cols(df):\n",
    "    columns = ['pickup_location_ID', 'dropoff_location_ID', 'pickup_date', 'avg_fare', 'Unnamed: 0']\n",
    "    return df.drop(columns=columns)\n",
    "\n",
    "def load_train_val_test():\n",
    "    train_DF = pd.read_csv('./fare_prediction_data/avg_fare_train.csv')\n",
    "    X_train = drop_cols(train_DF)\n",
    "    y_train = train_DF['avg_fare']\n",
    "    val_DF = pd.read_csv('./fare_prediction_data/avg_fare_val.csv')\n",
    "    X_val = drop_cols(val_DF)\n",
    "    y_val = val_DF['avg_fare']\n",
    "    test_DF = pd.read_csv('./fare_prediction_data/avg_fare_test.csv')\n",
    "    X_test = drop_cols(test_DF)\n",
    "    y_test = test_DF['avg_fare']\n",
    "    return X_train, y_train, X_val, y_val, X_test, y_test "
   ]
  },
  {
   "cell_type": "code",
   "execution_count": 4,
   "metadata": {},
   "outputs": [],
   "source": [
    "X_train, y_train, X_val, y_val, X_test, y_test = load_train_val_test()"
   ]
  },
  {
   "cell_type": "code",
   "execution_count": 53,
   "metadata": {},
   "outputs": [],
   "source": [
    "rf = RandomForestRegressor(max_depth=30, random_state=0, n_estimators=10)"
   ]
  },
  {
   "cell_type": "code",
   "execution_count": 54,
   "metadata": {},
   "outputs": [],
   "source": [
    "rf.fit(X_train, y_train)"
   ]
  },
  {
   "cell_type": "code",
   "execution_count": 56,
   "metadata": {},
   "outputs": [],
   "source": [
    "y_pred = rf.predict(X_test)"
   ]
  },
  {
   "cell_type": "code",
   "execution_count": 58,
   "metadata": {},
   "outputs": [
    {
     "data": {
      "text/plain": [
       "122.94493511495217"
      ]
     },
     "execution_count": 58,
     "metadata": {},
     "output_type": "execute_result"
    }
   ],
   "source": [
    "mse(y_test, y_pred)"
   ]
  },
  {
   "cell_type": "code",
   "execution_count": null,
   "metadata": {},
   "outputs": [],
   "source": []
  }
 ],
 "metadata": {
  "kernelspec": {
   "display_name": "Python 3",
   "language": "python",
   "name": "python3"
  },
  "language_info": {
   "codemirror_mode": {
    "name": "ipython",
    "version": 3
   },
   "file_extension": ".py",
   "mimetype": "text/x-python",
   "name": "python",
   "nbconvert_exporter": "python",
   "pygments_lexer": "ipython3",
   "version": "3.7.6"
  }
 },
 "nbformat": 4,
 "nbformat_minor": 4
}
