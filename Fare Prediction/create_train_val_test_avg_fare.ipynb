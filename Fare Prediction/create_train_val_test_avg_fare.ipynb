{
  "cells": [
    {
      "cell_type": "code",
      "execution_count": 4,
      "metadata": {
        "pycharm": {
          "is_executing": false
        }
      },
      "outputs": [],
      "source": [
        "import pandas as pd\n",
        "import numpy as np\n",
        "from sklearn.model_selection import train_test_split\n",
        "\n",
        "from matplotlib import pyplot as plt"
      ]
    },
    {
      "cell_type": "code",
      "execution_count": 8,
      "metadata": {
        "pycharm": {
          "is_executing": false
        }
      },
      "outputs": [],
      "source": "path \u003d \u0027./agg_taxi_fare_data/\u0027"
    },
    {
      "cell_type": "code",
      "execution_count": 9,
      "metadata": {
        "pycharm": {
          "is_executing": false
        }
      },
      "outputs": [],
      "source": "# Load month aggregate fare data\njan2019 \u003d pd.read_csv(path + \u0027January2019_avg_fare.csv\u0027)\nfeb2019 \u003d pd.read_csv(path + \u0027February2019_avg_fare.csv\u0027)\nmar2019 \u003d pd.read_csv(path + \u0027February2019_avg_fare.csv\u0027)\napr2019 \u003d pd.read_csv(path + \u0027April2019_avg_fare.csv\u0027)\nmay2019 \u003d pd.read_csv(path + \u0027May2019_avg_fare.csv\u0027)\njun2019 \u003d pd.read_csv(path + \u0027June2019_avg_fare.csv\u0027)"
    },
    {
      "cell_type": "code",
      "execution_count": 10,
      "metadata": {
        "pycharm": {
          "is_executing": false
        }
      },
      "outputs": [],
      "source": [
        "agg_df \u003d jan2019.append([feb2019, mar2019, apr2019, may2019, jun2019])\n",
        "agg_df.drop([\u0027Unnamed: 0\u0027], axis\u003d1, inplace\u003dTrue)"
      ]
    },
    {
      "cell_type": "code",
      "execution_count": 12,
      "metadata": {
        "pycharm": {
          "is_executing": false
        }
      },
      "outputs": [],
      "source": "agg_df.to_csv(\u0027./fare_prediction_data/avg_fare_all.csv\u0027)"
    },
    {
      "cell_type": "code",
      "execution_count": 13,
      "metadata": {
        "pycharm": {
          "is_executing": false
        }
      },
      "outputs": [],
      "source": [
        "agg_df.head(20)\n",
        "agg_df \u003d agg_df.sample(frac\u003d0.5)"
      ]
    },
    {
      "cell_type": "code",
      "execution_count": 7,
      "metadata": {
        "pycharm": {}
      },
      "outputs": [],
      "source": [
        "## Need to drop the following columns when doing training, validation, and testing\n",
        "## 1. pickup_location_ID\n",
        "## 2. dropoff_location_ID\n",
        "## 3. pickup_date\n",
        "## 4. avg_fare as this is the target"
      ]
    },
    {
      "cell_type": "code",
      "execution_count": 14,
      "metadata": {
        "pycharm": {
          "is_executing": false
        }
      },
      "outputs": [],
      "source": [
        "y \u003d agg_df[\u0027avg_fare\u0027]"
      ]
    },
    {
      "cell_type": "code",
      "execution_count": 15,
      "metadata": {
        "pycharm": {
          "is_executing": false
        }
      },
      "outputs": [],
      "source": [
        "X \u003d agg_df.drop(columns\u003d[\u0027avg_fare\u0027])"
      ]
    },
    {
      "cell_type": "code",
      "execution_count": 16,
      "metadata": {
        "pycharm": {
          "is_executing": false
        }
      },
      "outputs": [],
      "source": [
        "X_train, X_test, y_train, y_test \u003d train_test_split(X, y, test_size\u003d0.1, random_state\u003d1)\n",
        "X_train, X_val, y_train, y_val \u003d train_test_split(X_train, y_train, test_size\u003d0.1, random_state\u003d1)"
      ]
    },
    {
      "cell_type": "code",
      "execution_count": 18,
      "metadata": {
        "pycharm": {
          "is_executing": false
        }
      },
      "outputs": [
        {
          "name": "stderr",
          "text": [
            "c:\\users\\nickb\\appdata\\local\\programs\\python\\python36\\lib\\site-packages\\ipykernel_launcher.py:7: SettingWithCopyWarning: \nA value is trying to be set on a copy of a slice from a DataFrame.\nTry using .loc[row_indexer,col_indexer] \u003d value instead\n\nSee the caveats in the documentation: https://pandas.pydata.org/pandas-docs/stable/user_guide/indexing.html#returning-a-view-versus-a-copy\n  import sys\n"
          ],
          "output_type": "stream"
        }
      ],
      "source": "X_train[\u0027avg_fare\u0027] \u003d y_train\ntrain_DF \u003d X_train\ntrain_DF.to_csv(\u0027./fare_prediction_data/avg_fare_train.csv\u0027)\nX_val[\u0027avg_fare\u0027] \u003d y_val\nval_DF \u003d X_val\nval_DF.to_csv(\u0027./fare_prediction_data/avg_fare_val.csv\u0027)\nX_test[\u0027avg_fare\u0027] \u003d y_test\ntest_DF \u003d X_test\ntest_DF.to_csv(\u0027./fare_prediction_data/avg_fare_test.csv\u0027)"
    },
    {
      "cell_type": "code",
      "execution_count": null,
      "metadata": {
        "pycharm": {}
      },
      "outputs": [],
      "source": []
    }
  ],
  "metadata": {
    "kernelspec": {
      "display_name": "Python 3",
      "language": "python",
      "name": "python3"
    },
    "language_info": {
      "codemirror_mode": {
        "name": "ipython",
        "version": 3
      },
      "file_extension": ".py",
      "mimetype": "text/x-python",
      "name": "python",
      "nbconvert_exporter": "python",
      "pygments_lexer": "ipython3",
      "version": "3.7.6"
    }
  },
  "nbformat": 4,
  "nbformat_minor": 4
}