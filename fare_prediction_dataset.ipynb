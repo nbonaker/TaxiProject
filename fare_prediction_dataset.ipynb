{
  "nbformat": 4,
  "nbformat_minor": 0,
  "metadata": {
    "colab": {
      "name": "fare_prediction_dataset.ipynb",
      "provenance": [],
      "collapsed_sections": []
    },
    "kernelspec": {
      "name": "python3",
      "display_name": "Python 3"
    }
  },
  "cells": [
    {
      "cell_type": "code",
      "metadata": {
        "id": "yVet2XrturGl"
      },
      "source": [
        "import pandas as pd\n",
        "import numpy as np\n",
        "import datetime\n",
        "import holidays\n",
        "\n",
        "import networkx as nx\n",
        "from matplotlib import pyplot as plt"
      ],
      "execution_count": null,
      "outputs": []
    },
    {
      "cell_type": "code",
      "metadata": {
        "id": "F43ITEt23cYp"
      },
      "source": [
        "def create_trip_DF(path):\n",
        "  df = pd.read_csv(path)\n",
        "  df.drop(['extra', 'RatecodeID', 'store_and_fwd_flag', 'RatecodeID', 'payment_type', 'passenger_count', 'store_and_fwd_flag', 'tolls_amount', 'VendorID', 'tip_amount', 'improvement_surcharge', 'total_amount', 'congestion_surcharge', 'mta_tax'], axis=1, inplace=True)\n",
        "  df.rename(columns={'tpep_pickup_datetime':'pickup_datetime', 'tpep_dropoff_datetime':'dropoff_datetime', 'PULocationID': 'pickup_location_ID', 'DOLocationID':'dropoff_location_ID'}, inplace=True)\n",
        "  df[\"pickup_datetime\"] = pd.to_datetime(df[\"pickup_datetime\"], format='%Y-%m-%d %H:%M:%S', errors='ignore')\n",
        "  df[\"dropoff_datetime\"] = pd.to_datetime(df[\"dropoff_datetime\"], format='%Y-%m-%d %H:%M:%S', errors='ignore')\n",
        "  df.dropna()\n",
        "  return df"
      ],
      "execution_count": null,
      "outputs": []
    },
    {
      "cell_type": "code",
      "metadata": {
        "id": "T-TzZ28O1LE3"
      },
      "source": [
        "trip_DF = create_trip_DF('/content/yellow_tripdata_2019-01.csv')"
      ],
      "execution_count": null,
      "outputs": []
    },
    {
      "cell_type": "code",
      "metadata": {
        "id": "cXm1g3L-XV0R"
      },
      "source": [
        "time_of_day_bins = ['PU_time_2AM-5:59AM', 'PU_time_6AM-9:59AM',\n",
        "               'PU_time_10AM-1:59PM', 'PU_time_2PM-5:59PM',\n",
        "               'PU_time_6PM-9:59PM', 'PU_time_10PM-1:59AM']\n",
        "\n",
        "def get_time_of_day_bin(timestamp, time_of_day_bins):\n",
        "  if 2 <= timestamp.hour and timestamp.hour < 6:\n",
        "    return time_of_day_bins[0]\n",
        "  elif 6 <= timestamp.hour and timestamp.hour < 10:\n",
        "    return time_of_day_bins[1]\n",
        "  elif 10 <= timestamp.hour and timestamp.hour < 14:\n",
        "    return time_of_day_bins[2]\n",
        "  elif 14 <= timestamp.hour and timestamp.hour < 18:\n",
        "    return time_of_day_bins[3]\n",
        "  elif 18 <= timestamp.hour and timestamp.hour < 22:\n",
        "    return time_of_day_bins[4]\n",
        "  else:\n",
        "    return time_of_day_bins[5]"
      ],
      "execution_count": null,
      "outputs": []
    },
    {
      "cell_type": "code",
      "metadata": {
        "id": "2bfiW31mV6Ef"
      },
      "source": [
        "def append_and_fill_time_of_day_bins(df, time_of_day_bins):\n",
        "  for time_bin in time_of_day_bins:\n",
        "    print(time_bin)\n",
        "    df[time_bin] = df['pickup_datetime'].map(lambda timestamp: 1 if get_time_of_day_bin(timestamp, time_of_day_bins) == time_bin else 0)"
      ],
      "execution_count": null,
      "outputs": []
    },
    {
      "cell_type": "code",
      "metadata": {
        "colab": {
          "base_uri": "https://localhost:8080/"
        },
        "id": "liugPYkFa5QB",
        "outputId": "a26dfcc4-0c44-425e-bc3d-52caa5e4fb1f"
      },
      "source": [
        "append_and_fill_time_of_day_bins(trip_DF, time_of_day_bins)"
      ],
      "execution_count": null,
      "outputs": [
        {
          "output_type": "stream",
          "text": [
            "PU_time_2AM-5:59AM\n",
            "PU_time_6AM-9:59AM\n",
            "PU_time_10AM-1:59PM\n",
            "PU_time_2PM-5:59PM\n",
            "PU_time_6PM-9:59PM\n",
            "PU_time_10PM-1:59AM\n"
          ],
          "name": "stdout"
        }
      ]
    },
    {
      "cell_type": "code",
      "metadata": {
        "id": "jmLnr-FgwZR3"
      },
      "source": [
        "weekend_days = [5, 6]\n",
        "us_holidays = holidays.US()\n",
        "def is_weekend_or_holiday(date):\n",
        "  date_day = date.day\n",
        "  stringified_date = str(date)\n",
        "  if date_day in weekend_days:\n",
        "    return True\n",
        "  elif stringified_date in us_holidays:\n",
        "    return True\n",
        "  else:\n",
        "    return False"
      ],
      "execution_count": null,
      "outputs": []
    },
    {
      "cell_type": "code",
      "metadata": {
        "id": "fapHmMbJnlwG"
      },
      "source": [
        "trip_DF['pickup_date'] = trip_DF['pickup_datetime'].map(lambda timestamp: timestamp.date())"
      ],
      "execution_count": null,
      "outputs": []
    },
    {
      "cell_type": "code",
      "metadata": {
        "id": "Jn5wdYloGxka"
      },
      "source": [
        "def create_avg_fare_df(df):\n",
        "  fare_prediction_df = df.groupby([\"pickup_location_ID\", \"dropoff_location_ID\", \"pickup_date\"] + time_of_day_bins, as_index=False).agg(avg_fare=('fare_amount', 'mean'))\n",
        "  return fare_prediction_df"
      ],
      "execution_count": null,
      "outputs": []
    },
    {
      "cell_type": "code",
      "metadata": {
        "id": "x1LyBHogo3sZ"
      },
      "source": [
        "trip_avg_fare_DF = create_avg_fare_df(trip_DF)"
      ],
      "execution_count": null,
      "outputs": []
    },
    {
      "cell_type": "code",
      "metadata": {
        "id": "iMl4EOd9vIF5"
      },
      "source": [
        "# if trips occur on weekend or US holiday\n",
        "trip_avg_fare_DF['weekend/holiday'] = trip_avg_fare_DF['pickup_date'].map(lambda date: 1 if is_weekend_or_holiday(date) else 0)"
      ],
      "execution_count": null,
      "outputs": []
    },
    {
      "cell_type": "code",
      "metadata": {
        "colab": {
          "base_uri": "https://localhost:8080/",
          "height": 396
        },
        "id": "mHXXMmdQrhc1",
        "outputId": "fdced751-d7d6-4bb8-b860-3443b22c0997"
      },
      "source": [
        "trip_avg_fare_DF.head(10)"
      ],
      "execution_count": null,
      "outputs": [
        {
          "output_type": "execute_result",
          "data": {
            "text/html": [
              "<div>\n",
              "<style scoped>\n",
              "    .dataframe tbody tr th:only-of-type {\n",
              "        vertical-align: middle;\n",
              "    }\n",
              "\n",
              "    .dataframe tbody tr th {\n",
              "        vertical-align: top;\n",
              "    }\n",
              "\n",
              "    .dataframe thead th {\n",
              "        text-align: right;\n",
              "    }\n",
              "</style>\n",
              "<table border=\"1\" class=\"dataframe\">\n",
              "  <thead>\n",
              "    <tr style=\"text-align: right;\">\n",
              "      <th></th>\n",
              "      <th>pickup_location_ID</th>\n",
              "      <th>dropoff_location_ID</th>\n",
              "      <th>pickup_date</th>\n",
              "      <th>PU_time_2AM-5:59AM</th>\n",
              "      <th>PU_time_6AM-9:59AM</th>\n",
              "      <th>PU_time_10AM-1:59PM</th>\n",
              "      <th>PU_time_2PM-5:59PM</th>\n",
              "      <th>PU_time_6PM-9:59PM</th>\n",
              "      <th>PU_time_10PM-1:59AM</th>\n",
              "      <th>avg_fare</th>\n",
              "      <th>weekend/holiday</th>\n",
              "    </tr>\n",
              "  </thead>\n",
              "  <tbody>\n",
              "    <tr>\n",
              "      <th>0</th>\n",
              "      <td>1</td>\n",
              "      <td>1</td>\n",
              "      <td>2019-01-01</td>\n",
              "      <td>0</td>\n",
              "      <td>0</td>\n",
              "      <td>0</td>\n",
              "      <td>0</td>\n",
              "      <td>0</td>\n",
              "      <td>1</td>\n",
              "      <td>73.000000</td>\n",
              "      <td>1</td>\n",
              "    </tr>\n",
              "    <tr>\n",
              "      <th>1</th>\n",
              "      <td>1</td>\n",
              "      <td>1</td>\n",
              "      <td>2019-01-01</td>\n",
              "      <td>0</td>\n",
              "      <td>0</td>\n",
              "      <td>0</td>\n",
              "      <td>0</td>\n",
              "      <td>1</td>\n",
              "      <td>0</td>\n",
              "      <td>46.000000</td>\n",
              "      <td>1</td>\n",
              "    </tr>\n",
              "    <tr>\n",
              "      <th>2</th>\n",
              "      <td>1</td>\n",
              "      <td>1</td>\n",
              "      <td>2019-01-01</td>\n",
              "      <td>0</td>\n",
              "      <td>0</td>\n",
              "      <td>0</td>\n",
              "      <td>1</td>\n",
              "      <td>0</td>\n",
              "      <td>0</td>\n",
              "      <td>72.500000</td>\n",
              "      <td>1</td>\n",
              "    </tr>\n",
              "    <tr>\n",
              "      <th>3</th>\n",
              "      <td>1</td>\n",
              "      <td>1</td>\n",
              "      <td>2019-01-01</td>\n",
              "      <td>0</td>\n",
              "      <td>0</td>\n",
              "      <td>1</td>\n",
              "      <td>0</td>\n",
              "      <td>0</td>\n",
              "      <td>0</td>\n",
              "      <td>67.777778</td>\n",
              "      <td>1</td>\n",
              "    </tr>\n",
              "    <tr>\n",
              "      <th>4</th>\n",
              "      <td>1</td>\n",
              "      <td>1</td>\n",
              "      <td>2019-01-01</td>\n",
              "      <td>0</td>\n",
              "      <td>1</td>\n",
              "      <td>0</td>\n",
              "      <td>0</td>\n",
              "      <td>0</td>\n",
              "      <td>0</td>\n",
              "      <td>106.666667</td>\n",
              "      <td>1</td>\n",
              "    </tr>\n",
              "    <tr>\n",
              "      <th>5</th>\n",
              "      <td>1</td>\n",
              "      <td>1</td>\n",
              "      <td>2019-01-01</td>\n",
              "      <td>1</td>\n",
              "      <td>0</td>\n",
              "      <td>0</td>\n",
              "      <td>0</td>\n",
              "      <td>0</td>\n",
              "      <td>0</td>\n",
              "      <td>52.500000</td>\n",
              "      <td>1</td>\n",
              "    </tr>\n",
              "    <tr>\n",
              "      <th>6</th>\n",
              "      <td>1</td>\n",
              "      <td>1</td>\n",
              "      <td>2019-01-02</td>\n",
              "      <td>0</td>\n",
              "      <td>0</td>\n",
              "      <td>0</td>\n",
              "      <td>0</td>\n",
              "      <td>1</td>\n",
              "      <td>0</td>\n",
              "      <td>75.500000</td>\n",
              "      <td>0</td>\n",
              "    </tr>\n",
              "    <tr>\n",
              "      <th>7</th>\n",
              "      <td>1</td>\n",
              "      <td>1</td>\n",
              "      <td>2019-01-02</td>\n",
              "      <td>0</td>\n",
              "      <td>0</td>\n",
              "      <td>0</td>\n",
              "      <td>1</td>\n",
              "      <td>0</td>\n",
              "      <td>0</td>\n",
              "      <td>52.166667</td>\n",
              "      <td>0</td>\n",
              "    </tr>\n",
              "    <tr>\n",
              "      <th>8</th>\n",
              "      <td>1</td>\n",
              "      <td>1</td>\n",
              "      <td>2019-01-02</td>\n",
              "      <td>0</td>\n",
              "      <td>0</td>\n",
              "      <td>1</td>\n",
              "      <td>0</td>\n",
              "      <td>0</td>\n",
              "      <td>0</td>\n",
              "      <td>68.142857</td>\n",
              "      <td>0</td>\n",
              "    </tr>\n",
              "    <tr>\n",
              "      <th>9</th>\n",
              "      <td>1</td>\n",
              "      <td>1</td>\n",
              "      <td>2019-01-02</td>\n",
              "      <td>0</td>\n",
              "      <td>1</td>\n",
              "      <td>0</td>\n",
              "      <td>0</td>\n",
              "      <td>0</td>\n",
              "      <td>0</td>\n",
              "      <td>75.000000</td>\n",
              "      <td>0</td>\n",
              "    </tr>\n",
              "  </tbody>\n",
              "</table>\n",
              "</div>"
            ],
            "text/plain": [
              "   pickup_location_ID  dropoff_location_ID  ...    avg_fare  weekend/holiday\n",
              "0                   1                    1  ...   73.000000                1\n",
              "1                   1                    1  ...   46.000000                1\n",
              "2                   1                    1  ...   72.500000                1\n",
              "3                   1                    1  ...   67.777778                1\n",
              "4                   1                    1  ...  106.666667                1\n",
              "5                   1                    1  ...   52.500000                1\n",
              "6                   1                    1  ...   75.500000                0\n",
              "7                   1                    1  ...   52.166667                0\n",
              "8                   1                    1  ...   68.142857                0\n",
              "9                   1                    1  ...   75.000000                0\n",
              "\n",
              "[10 rows x 11 columns]"
            ]
          },
          "metadata": {
            "tags": []
          },
          "execution_count": 144
        }
      ]
    },
    {
      "cell_type": "code",
      "metadata": {
        "colab": {
          "base_uri": "https://localhost:8080/"
        },
        "id": "dDY8MYdi2tY4",
        "outputId": "6bb45f2c-740f-45b1-8a62-2706a2e2161e"
      },
      "source": [
        "len(trip_avg_fare_DF.index)"
      ],
      "execution_count": null,
      "outputs": [
        {
          "output_type": "execute_result",
          "data": {
            "text/plain": [
              "877718"
            ]
          },
          "metadata": {
            "tags": []
          },
          "execution_count": 143
        }
      ]
    },
    {
      "cell_type": "code",
      "metadata": {
        "colab": {
          "base_uri": "https://localhost:8080/",
          "height": 315
        },
        "id": "FkWvat04_vt7",
        "outputId": "112ad2f4-3a41-4b2b-b1ed-1d577c1b9996"
      },
      "source": [
        "trip_avg_fare_DF.hist(column=\"avg_fare\", bins=10, range=(0, 100))"
      ],
      "execution_count": 158,
      "outputs": [
        {
          "output_type": "execute_result",
          "data": {
            "text/plain": [
              "array([[<matplotlib.axes._subplots.AxesSubplot object at 0x7f197c77aef0>]],\n",
              "      dtype=object)"
            ]
          },
          "metadata": {
            "tags": []
          },
          "execution_count": 158
        },
        {
          "output_type": "display_data",
          "data": {
            "image/png": "[encoded data removed]",
            "text/plain": [
              "<Figure size 432x288 with 1 Axes>"
            ]
          },
          "metadata": {
            "tags": [],
            "needs_background": "light"
          }
        }
      ]
    }
  ]
}