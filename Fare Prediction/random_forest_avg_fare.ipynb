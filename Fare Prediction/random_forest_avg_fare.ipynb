{
 "cells": [
  {
   "cell_type": "code",
   "execution_count": 39,
   "metadata": {},
   "outputs": [],
   "source": [
    "import pandas as pd\n",
    "import numpy as np\n",
    "import os\n",
    "from sklearn.ensemble import RandomForestRegressor \n",
    "from sklearn.metrics import mean_squared_error as mse\n",
    "from matplotlib import pyplot as plt"
   ]
  },
  {
   "cell_type": "code",
   "execution_count": 36,
   "metadata": {},
   "outputs": [],
   "source": [
    "## Need to drop the following columns when doing training, validation, and testing\n",
    "## 1. pickup_location_ID\n",
    "## 2. dropoff_location_ID\n",
    "## 3. pickup_date\n",
    "## 4. avg_fare as this is the target\n"
   ]
  },
  {
   "cell_type": "code",
   "execution_count": 37,
   "metadata": {},
   "outputs": [],
   "source": [
    "def drop_cols(df):\n",
    "    columns = ['pickup_location_ID', 'dropoff_location_ID', 'pickup_date', 'avg_fare', 'Unnamed: 0']\n",
    "    return df.drop(columns=columns)\n",
    "\n",
    "def load_train_val_test():\n",
    "    train_DF = pd.read_csv('./fare_prediction_data/avg_fare_train.csv')\n",
    "    X_train = drop_cols(train_DF)\n",
    "    y_train = train_DF['avg_fare']\n",
    "    val_DF = pd.read_csv('./fare_prediction_data/avg_fare_val.csv')\n",
    "    X_val = drop_cols(val_DF)\n",
    "    y_val = val_DF['avg_fare']\n",
    "    test_DF = pd.read_csv('./fare_prediction_data/avg_fare_test.csv')\n",
    "    X_test = drop_cols(test_DF)\n",
    "    y_test = test_DF['avg_fare']\n",
    "    return X_train, y_train, X_val, y_val, X_test, y_test "
   ]
  },
  {
   "cell_type": "code",
   "execution_count": 38,
   "metadata": {},
   "outputs": [],
   "source": [
    "X_train, y_train, X_val, y_val, X_test, y_test = load_train_val_test()"
   ]
  },
  {
   "cell_type": "code",
   "execution_count": 52,
   "metadata": {},
   "outputs": [
    {
     "name": "stdout",
     "output_type": "stream",
     "text": [
      "Train MSE for Random Forest Regressor with Max Depth 2 and 8 trees: \n",
      "42.672470421464865\n",
      "Validation MSE for Random Forest Regressor with Max Depth 2 and 8 trees: \n",
      "44.80227613422032\n"
     ]
    }
   ],
   "source": [
    "max_depth = 2\n",
    "num_trees = 8\n",
    "rf = RandomForestRegressor(max_depth=max_depth, random_state=0, n_estimators=num_trees)\n",
    "rf.fit(X_train, y_train)\n",
    "y_pred_train = rf.predict(X_train)\n",
    "train_mse = mse(y_train, y_pred_train)\n",
    "print('Train MSE for Random Forest Regressor with Max Depth ' + str(max_depth) + ' and ' + str(num_trees) + ' trees: ')\n",
    "print(train_mse)\n",
    "y_pred_val = rf.predict(X_val)\n",
    "val_mse = mse(y_val, y_pred_val)\n",
    "print('Validation MSE for Random Forest Regressor with Max Depth ' + str(max_depth) + ' and ' + str(num_trees) + ' trees: ')\n",
    "print(val_mse)"
   ]
  },
  {
   "cell_type": "code",
   "execution_count": 56,
   "metadata": {},
   "outputs": [
    {
     "name": "stdout",
     "output_type": "stream",
     "text": [
      "Test MSE for Random Forest Regressor with Max Depth 2 and 8 trees: \n",
      "43.869551270926664\n"
     ]
    }
   ],
   "source": [
    "y_pred_test = rf.predict(X_test)\n",
    "test_mse = mse(y_test, y_pred_test)\n",
    "print('Test MSE for Random Forest Regressor with Max Depth ' + str(max_depth) + ' and ' + str(num_trees) + ' trees: ')\n",
    "print(test_mse)"
   ]
  },
  {
   "cell_type": "code",
   "execution_count": null,
   "metadata": {},
   "outputs": [],
   "source": []
  }
 ],
 "metadata": {
  "kernelspec": {
   "display_name": "Python 3",
   "language": "python",
   "name": "python3"
  },
  "language_info": {
   "codemirror_mode": {
    "name": "ipython",
    "version": 3
   },
   "file_extension": ".py",
   "mimetype": "text/x-python",
   "name": "python",
   "nbconvert_exporter": "python",
   "pygments_lexer": "ipython3",
   "version": "3.7.6"
  }
 },
 "nbformat": 4,
 "nbformat_minor": 4
}
