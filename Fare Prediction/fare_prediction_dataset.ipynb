{
 "cells": [
  {
   "cell_type": "code",
   "execution_count": 258,
   "metadata": {
    "id": "yVet2XrturGl"
   },
   "outputs": [],
   "source": [
    "import pandas as pd\n",
    "from pandas.api.types import CategoricalDtype\n",
    "import numpy as np\n",
    "import datetime\n",
    "import holidays\n",
    "\n",
    "from matplotlib import pyplot as plt"
   ]
  },
  {
   "cell_type": "code",
   "execution_count": 259,
   "metadata": {
    "id": "kAANKJiKf2rD"
   },
   "outputs": [],
   "source": [
    "path = 'June2019'"
   ]
  },
  {
   "cell_type": "code",
   "execution_count": 260,
   "metadata": {
    "id": "F43ITEt23cYp"
   },
   "outputs": [],
   "source": [
    "def create_trip_DF(path):\n",
    "  df = pd.read_csv(path)\n",
    "  df.drop(['extra', 'RatecodeID', 'store_and_fwd_flag', 'RatecodeID', 'payment_type', 'passenger_count', 'store_and_fwd_flag', 'tolls_amount', 'VendorID', 'tip_amount', 'improvement_surcharge', 'total_amount', 'congestion_surcharge', 'mta_tax'], axis=1, inplace=True)\n",
    "  df.rename(columns={'tpep_pickup_datetime':'pickup_datetime', 'tpep_dropoff_datetime':'dropoff_datetime', 'PULocationID': 'pickup_location_ID', 'DOLocationID':'dropoff_location_ID'}, inplace=True)\n",
    "  df[\"pickup_datetime\"] = pd.to_datetime(df[\"pickup_datetime\"], format='%Y-%m-%d %H:%M:%S', errors='ignore')\n",
    "  df[\"dropoff_datetime\"] = pd.to_datetime(df[\"dropoff_datetime\"], format='%Y-%m-%d %H:%M:%S', errors='ignore')\n",
    "  df.dropna()\n",
    "  df = df[(df['fare_amount'] >= 2.50) & (df['trip_distance'] > 0)]\n",
    "  return df"
   ]
  },
  {
   "cell_type": "code",
   "execution_count": 261,
   "metadata": {
    "colab": {
     "base_uri": "https://localhost:8080/"
    },
    "id": "T-TzZ28O1LE3",
    "outputId": "fa76f892-a3a5-4862-b11d-be3e4de0becc"
   },
   "outputs": [
    {
     "name": "stdout",
     "output_type": "stream",
     "text": [
      "6864689\n"
     ]
    }
   ],
   "source": [
    "trip_DF = create_trip_DF('./raw_taxi_data/' + path + '.csv')\n",
    "print(len(trip_DF.index))"
   ]
  },
  {
   "cell_type": "code",
   "execution_count": 262,
   "metadata": {
    "colab": {
     "base_uri": "https://localhost:8080/",
     "height": 317
    },
    "id": "jSPrKwIZQAP3",
    "outputId": "524056eb-2007-4e60-f3dc-8a44092b4ab9"
   },
   "outputs": [
    {
     "data": {
      "text/html": [
       "<div>\n",
       "<style scoped>\n",
       "    .dataframe tbody tr th:only-of-type {\n",
       "        vertical-align: middle;\n",
       "    }\n",
       "\n",
       "    .dataframe tbody tr th {\n",
       "        vertical-align: top;\n",
       "    }\n",
       "\n",
       "    .dataframe thead th {\n",
       "        text-align: right;\n",
       "    }\n",
       "</style>\n",
       "<table border=\"1\" class=\"dataframe\">\n",
       "  <thead>\n",
       "    <tr style=\"text-align: right;\">\n",
       "      <th></th>\n",
       "      <th>trip_distance</th>\n",
       "      <th>pickup_location_ID</th>\n",
       "      <th>dropoff_location_ID</th>\n",
       "      <th>fare_amount</th>\n",
       "    </tr>\n",
       "  </thead>\n",
       "  <tbody>\n",
       "    <tr>\n",
       "      <th>count</th>\n",
       "      <td>6.864689e+06</td>\n",
       "      <td>6.864689e+06</td>\n",
       "      <td>6.864689e+06</td>\n",
       "      <td>6.864689e+06</td>\n",
       "    </tr>\n",
       "    <tr>\n",
       "      <th>mean</th>\n",
       "      <td>3.101730e+00</td>\n",
       "      <td>1.623054e+02</td>\n",
       "      <td>1.605868e+02</td>\n",
       "      <td>1.353621e+01</td>\n",
       "    </tr>\n",
       "    <tr>\n",
       "      <th>std</th>\n",
       "      <td>3.993169e+00</td>\n",
       "      <td>6.631148e+01</td>\n",
       "      <td>7.035755e+01</td>\n",
       "      <td>1.252278e+01</td>\n",
       "    </tr>\n",
       "    <tr>\n",
       "      <th>min</th>\n",
       "      <td>1.000000e-02</td>\n",
       "      <td>1.000000e+00</td>\n",
       "      <td>1.000000e+00</td>\n",
       "      <td>2.500000e+00</td>\n",
       "    </tr>\n",
       "    <tr>\n",
       "      <th>25%</th>\n",
       "      <td>1.000000e+00</td>\n",
       "      <td>1.140000e+02</td>\n",
       "      <td>1.070000e+02</td>\n",
       "      <td>6.500000e+00</td>\n",
       "    </tr>\n",
       "    <tr>\n",
       "      <th>50%</th>\n",
       "      <td>1.700000e+00</td>\n",
       "      <td>1.610000e+02</td>\n",
       "      <td>1.620000e+02</td>\n",
       "      <td>9.500000e+00</td>\n",
       "    </tr>\n",
       "    <tr>\n",
       "      <th>75%</th>\n",
       "      <td>3.180000e+00</td>\n",
       "      <td>2.330000e+02</td>\n",
       "      <td>2.330000e+02</td>\n",
       "      <td>1.500000e+01</td>\n",
       "    </tr>\n",
       "    <tr>\n",
       "      <th>max</th>\n",
       "      <td>2.295700e+02</td>\n",
       "      <td>2.650000e+02</td>\n",
       "      <td>2.650000e+02</td>\n",
       "      <td>9.022000e+03</td>\n",
       "    </tr>\n",
       "  </tbody>\n",
       "</table>\n",
       "</div>"
      ],
      "text/plain": [
       "       trip_distance  pickup_location_ID  dropoff_location_ID   fare_amount\n",
       "count   6.864689e+06        6.864689e+06         6.864689e+06  6.864689e+06\n",
       "mean    3.101730e+00        1.623054e+02         1.605868e+02  1.353621e+01\n",
       "std     3.993169e+00        6.631148e+01         7.035755e+01  1.252278e+01\n",
       "min     1.000000e-02        1.000000e+00         1.000000e+00  2.500000e+00\n",
       "25%     1.000000e+00        1.140000e+02         1.070000e+02  6.500000e+00\n",
       "50%     1.700000e+00        1.610000e+02         1.620000e+02  9.500000e+00\n",
       "75%     3.180000e+00        2.330000e+02         2.330000e+02  1.500000e+01\n",
       "max     2.295700e+02        2.650000e+02         2.650000e+02  9.022000e+03"
      ]
     },
     "execution_count": 262,
     "metadata": {},
     "output_type": "execute_result"
    }
   ],
   "source": [
    "trip_DF.describe()"
   ]
  },
  {
   "cell_type": "code",
   "execution_count": 263,
   "metadata": {
    "id": "cXm1g3L-XV0R"
   },
   "outputs": [],
   "source": [
    "time_of_day_bins = ['PU_time_2AM-5:59AM', 'PU_time_6AM-9:59AM',\n",
    "               'PU_time_10AM-1:59PM', 'PU_time_2PM-5:59PM',\n",
    "               'PU_time_6PM-9:59PM', 'PU_time_10PM-1:59AM']\n",
    "\n",
    "def get_time_of_day_bin(timestamp, time_of_day_bins):\n",
    "  if 2 <= timestamp.hour and timestamp.hour < 6:\n",
    "    return time_of_day_bins[0]\n",
    "  elif 6 <= timestamp.hour and timestamp.hour < 10:\n",
    "    return time_of_day_bins[1]\n",
    "  elif 10 <= timestamp.hour and timestamp.hour < 14:\n",
    "    return time_of_day_bins[2]\n",
    "  elif 14 <= timestamp.hour and timestamp.hour < 18:\n",
    "    return time_of_day_bins[3]\n",
    "  elif 18 <= timestamp.hour and timestamp.hour < 22:\n",
    "    return time_of_day_bins[4]\n",
    "  else:\n",
    "    return time_of_day_bins[5]"
   ]
  },
  {
   "cell_type": "code",
   "execution_count": 264,
   "metadata": {
    "id": "2bfiW31mV6Ef"
   },
   "outputs": [],
   "source": [
    "def append_and_fill_time_of_day_bins(df, time_of_day_bins):\n",
    "  for time_bin in time_of_day_bins:\n",
    "    print(time_bin)\n",
    "    df[time_bin] = df['pickup_datetime'].map(lambda timestamp: 1 if get_time_of_day_bin(timestamp, time_of_day_bins) == time_bin else 0)"
   ]
  },
  {
   "cell_type": "code",
   "execution_count": 265,
   "metadata": {
    "colab": {
     "base_uri": "https://localhost:8080/"
    },
    "id": "liugPYkFa5QB",
    "outputId": "965caf7c-6d05-4c8a-a812-959cbd20c056"
   },
   "outputs": [
    {
     "name": "stdout",
     "output_type": "stream",
     "text": [
      "PU_time_2AM-5:59AM\n",
      "PU_time_6AM-9:59AM\n",
      "PU_time_10AM-1:59PM\n",
      "PU_time_2PM-5:59PM\n",
      "PU_time_6PM-9:59PM\n",
      "PU_time_10PM-1:59AM\n"
     ]
    }
   ],
   "source": [
    "append_and_fill_time_of_day_bins(trip_DF, time_of_day_bins)"
   ]
  },
  {
   "cell_type": "code",
   "execution_count": 266,
   "metadata": {
    "id": "jmLnr-FgwZR3"
   },
   "outputs": [],
   "source": [
    "weekend_days = [5, 6]\n",
    "us_holidays = holidays.US()\n",
    "def is_weekend_or_holiday(date):\n",
    "  date_day = date.day\n",
    "  stringified_date = str(date)\n",
    "  if date_day in weekend_days:\n",
    "    return True\n",
    "  elif stringified_date in us_holidays:\n",
    "    return True\n",
    "  else:\n",
    "    return False"
   ]
  },
  {
   "cell_type": "code",
   "execution_count": 267,
   "metadata": {
    "id": "fapHmMbJnlwG"
   },
   "outputs": [],
   "source": [
    "trip_DF['pickup_date'] = trip_DF['pickup_datetime'].map(lambda timestamp: timestamp.date())"
   ]
  },
  {
   "cell_type": "code",
   "execution_count": 268,
   "metadata": {
    "id": "Jn5wdYloGxka"
   },
   "outputs": [],
   "source": [
    "def create_avg_fare_df(df):\n",
    "  fare_prediction_df = df.groupby([\"pickup_location_ID\", \"dropoff_location_ID\", \"pickup_date\"] + time_of_day_bins, as_index=False).agg(avg_fare=('fare_amount', 'mean'))\n",
    "  return fare_prediction_df"
   ]
  },
  {
   "cell_type": "code",
   "execution_count": 269,
   "metadata": {
    "id": "x1LyBHogo3sZ"
   },
   "outputs": [],
   "source": [
    "trip_avg_fare_DF = create_avg_fare_df(trip_DF)"
   ]
  },
  {
   "cell_type": "code",
   "execution_count": 270,
   "metadata": {
    "id": "iMl4EOd9vIF5"
   },
   "outputs": [],
   "source": [
    "# if trips occur on weekend or US holiday\n",
    "trip_avg_fare_DF['weekend/holiday'] = trip_avg_fare_DF['pickup_date'].map(lambda date: 1 if is_weekend_or_holiday(date) else 0)"
   ]
  },
  {
   "cell_type": "code",
   "execution_count": 271,
   "metadata": {
    "id": "GNEuOyFLO71U"
   },
   "outputs": [],
   "source": [
    "## Enforce that pickup and dropoff IDs are ints\n",
    "trip_avg_fare_DF = trip_avg_fare_DF.astype({\"pickup_location_ID\": int, \"dropoff_location_ID\": int})"
   ]
  },
  {
   "cell_type": "code",
   "execution_count": 272,
   "metadata": {
    "colab": {
     "base_uri": "https://localhost:8080/",
     "height": 396
    },
    "id": "mHXXMmdQrhc1",
    "outputId": "2c2bf063-e89a-416a-a1fe-a96bafca6c56"
   },
   "outputs": [
    {
     "data": {
      "text/html": [
       "<div>\n",
       "<style scoped>\n",
       "    .dataframe tbody tr th:only-of-type {\n",
       "        vertical-align: middle;\n",
       "    }\n",
       "\n",
       "    .dataframe tbody tr th {\n",
       "        vertical-align: top;\n",
       "    }\n",
       "\n",
       "    .dataframe thead th {\n",
       "        text-align: right;\n",
       "    }\n",
       "</style>\n",
       "<table border=\"1\" class=\"dataframe\">\n",
       "  <thead>\n",
       "    <tr style=\"text-align: right;\">\n",
       "      <th></th>\n",
       "      <th>pickup_location_ID</th>\n",
       "      <th>dropoff_location_ID</th>\n",
       "      <th>pickup_date</th>\n",
       "      <th>PU_time_2AM-5:59AM</th>\n",
       "      <th>PU_time_6AM-9:59AM</th>\n",
       "      <th>PU_time_10AM-1:59PM</th>\n",
       "      <th>PU_time_2PM-5:59PM</th>\n",
       "      <th>PU_time_6PM-9:59PM</th>\n",
       "      <th>PU_time_10PM-1:59AM</th>\n",
       "      <th>avg_fare</th>\n",
       "      <th>weekend/holiday</th>\n",
       "    </tr>\n",
       "  </thead>\n",
       "  <tbody>\n",
       "    <tr>\n",
       "      <th>0</th>\n",
       "      <td>1</td>\n",
       "      <td>1</td>\n",
       "      <td>2019-06-02</td>\n",
       "      <td>0</td>\n",
       "      <td>0</td>\n",
       "      <td>0</td>\n",
       "      <td>0</td>\n",
       "      <td>1</td>\n",
       "      <td>0</td>\n",
       "      <td>127.00</td>\n",
       "      <td>0</td>\n",
       "    </tr>\n",
       "    <tr>\n",
       "      <th>1</th>\n",
       "      <td>1</td>\n",
       "      <td>1</td>\n",
       "      <td>2019-06-02</td>\n",
       "      <td>0</td>\n",
       "      <td>0</td>\n",
       "      <td>0</td>\n",
       "      <td>1</td>\n",
       "      <td>0</td>\n",
       "      <td>0</td>\n",
       "      <td>109.50</td>\n",
       "      <td>0</td>\n",
       "    </tr>\n",
       "    <tr>\n",
       "      <th>2</th>\n",
       "      <td>1</td>\n",
       "      <td>1</td>\n",
       "      <td>2019-06-02</td>\n",
       "      <td>0</td>\n",
       "      <td>1</td>\n",
       "      <td>0</td>\n",
       "      <td>0</td>\n",
       "      <td>0</td>\n",
       "      <td>0</td>\n",
       "      <td>20.00</td>\n",
       "      <td>0</td>\n",
       "    </tr>\n",
       "    <tr>\n",
       "      <th>3</th>\n",
       "      <td>1</td>\n",
       "      <td>1</td>\n",
       "      <td>2019-06-03</td>\n",
       "      <td>0</td>\n",
       "      <td>0</td>\n",
       "      <td>0</td>\n",
       "      <td>0</td>\n",
       "      <td>1</td>\n",
       "      <td>0</td>\n",
       "      <td>47.00</td>\n",
       "      <td>0</td>\n",
       "    </tr>\n",
       "    <tr>\n",
       "      <th>4</th>\n",
       "      <td>1</td>\n",
       "      <td>1</td>\n",
       "      <td>2019-06-03</td>\n",
       "      <td>0</td>\n",
       "      <td>0</td>\n",
       "      <td>1</td>\n",
       "      <td>0</td>\n",
       "      <td>0</td>\n",
       "      <td>0</td>\n",
       "      <td>89.25</td>\n",
       "      <td>0</td>\n",
       "    </tr>\n",
       "    <tr>\n",
       "      <th>5</th>\n",
       "      <td>1</td>\n",
       "      <td>1</td>\n",
       "      <td>2019-06-03</td>\n",
       "      <td>0</td>\n",
       "      <td>1</td>\n",
       "      <td>0</td>\n",
       "      <td>0</td>\n",
       "      <td>0</td>\n",
       "      <td>0</td>\n",
       "      <td>100.00</td>\n",
       "      <td>0</td>\n",
       "    </tr>\n",
       "    <tr>\n",
       "      <th>6</th>\n",
       "      <td>1</td>\n",
       "      <td>1</td>\n",
       "      <td>2019-06-04</td>\n",
       "      <td>0</td>\n",
       "      <td>0</td>\n",
       "      <td>0</td>\n",
       "      <td>0</td>\n",
       "      <td>1</td>\n",
       "      <td>0</td>\n",
       "      <td>94.85</td>\n",
       "      <td>0</td>\n",
       "    </tr>\n",
       "    <tr>\n",
       "      <th>7</th>\n",
       "      <td>1</td>\n",
       "      <td>1</td>\n",
       "      <td>2019-06-05</td>\n",
       "      <td>0</td>\n",
       "      <td>0</td>\n",
       "      <td>0</td>\n",
       "      <td>0</td>\n",
       "      <td>1</td>\n",
       "      <td>0</td>\n",
       "      <td>96.00</td>\n",
       "      <td>1</td>\n",
       "    </tr>\n",
       "    <tr>\n",
       "      <th>8</th>\n",
       "      <td>1</td>\n",
       "      <td>1</td>\n",
       "      <td>2019-06-05</td>\n",
       "      <td>0</td>\n",
       "      <td>0</td>\n",
       "      <td>0</td>\n",
       "      <td>1</td>\n",
       "      <td>0</td>\n",
       "      <td>0</td>\n",
       "      <td>116.00</td>\n",
       "      <td>1</td>\n",
       "    </tr>\n",
       "    <tr>\n",
       "      <th>9</th>\n",
       "      <td>1</td>\n",
       "      <td>1</td>\n",
       "      <td>2019-06-05</td>\n",
       "      <td>0</td>\n",
       "      <td>0</td>\n",
       "      <td>1</td>\n",
       "      <td>0</td>\n",
       "      <td>0</td>\n",
       "      <td>0</td>\n",
       "      <td>69.50</td>\n",
       "      <td>1</td>\n",
       "    </tr>\n",
       "  </tbody>\n",
       "</table>\n",
       "</div>"
      ],
      "text/plain": [
       "   pickup_location_ID  dropoff_location_ID pickup_date  PU_time_2AM-5:59AM  \\\n",
       "0                   1                    1  2019-06-02                   0   \n",
       "1                   1                    1  2019-06-02                   0   \n",
       "2                   1                    1  2019-06-02                   0   \n",
       "3                   1                    1  2019-06-03                   0   \n",
       "4                   1                    1  2019-06-03                   0   \n",
       "5                   1                    1  2019-06-03                   0   \n",
       "6                   1                    1  2019-06-04                   0   \n",
       "7                   1                    1  2019-06-05                   0   \n",
       "8                   1                    1  2019-06-05                   0   \n",
       "9                   1                    1  2019-06-05                   0   \n",
       "\n",
       "   PU_time_6AM-9:59AM  PU_time_10AM-1:59PM  PU_time_2PM-5:59PM  \\\n",
       "0                   0                    0                   0   \n",
       "1                   0                    0                   1   \n",
       "2                   1                    0                   0   \n",
       "3                   0                    0                   0   \n",
       "4                   0                    1                   0   \n",
       "5                   1                    0                   0   \n",
       "6                   0                    0                   0   \n",
       "7                   0                    0                   0   \n",
       "8                   0                    0                   1   \n",
       "9                   0                    1                   0   \n",
       "\n",
       "   PU_time_6PM-9:59PM  PU_time_10PM-1:59AM  avg_fare  weekend/holiday  \n",
       "0                   1                    0    127.00                0  \n",
       "1                   0                    0    109.50                0  \n",
       "2                   0                    0     20.00                0  \n",
       "3                   1                    0     47.00                0  \n",
       "4                   0                    0     89.25                0  \n",
       "5                   0                    0    100.00                0  \n",
       "6                   1                    0     94.85                0  \n",
       "7                   1                    0     96.00                1  \n",
       "8                   0                    0    116.00                1  \n",
       "9                   0                    0     69.50                1  "
      ]
     },
     "execution_count": 272,
     "metadata": {},
     "output_type": "execute_result"
    }
   ],
   "source": [
    "trip_avg_fare_DF.head(10)"
   ]
  },
  {
   "cell_type": "code",
   "execution_count": 273,
   "metadata": {
    "colab": {
     "base_uri": "https://localhost:8080/"
    },
    "id": "dDY8MYdi2tY4",
    "outputId": "0f299937-7eef-4970-cf96-d6fb572fefd8"
   },
   "outputs": [
    {
     "data": {
      "text/plain": [
       "842173"
      ]
     },
     "execution_count": 273,
     "metadata": {},
     "output_type": "execute_result"
    }
   ],
   "source": [
    "len(trip_avg_fare_DF.index)"
   ]
  },
  {
   "cell_type": "code",
   "execution_count": 274,
   "metadata": {
    "colab": {
     "base_uri": "https://localhost:8080/",
     "height": 335
    },
    "id": "FkWvat04_vt7",
    "outputId": "cef5f6f8-f027-4dfc-9b66-33984345f280"
   },
   "outputs": [
    {
     "data": {
      "text/plain": [
       "array([[<matplotlib.axes._subplots.AxesSubplot object at 0x1b5723850>]],\n",
       "      dtype=object)"
      ]
     },
     "execution_count": 274,
     "metadata": {},
     "output_type": "execute_result"
    },
    {
     "data": {
      "image/png": "[encoded data removed]",
      "text/plain": [
       "<Figure size 432x288 with 1 Axes>"
      ]
     },
     "metadata": {
      "needs_background": "light"
     },
     "output_type": "display_data"
    }
   ],
   "source": [
    "trip_avg_fare_DF.hist(column=\"avg_fare\", bins=10, range=(0, 100))"
   ]
  },
  {
   "cell_type": "code",
   "execution_count": 275,
   "metadata": {
    "id": "MegcZiK9HKeV"
   },
   "outputs": [],
   "source": [
    "## Need to drop the following columns when doing training & testing\n",
    "## 1. pickup_location_ID\n",
    "## 2. dropoff_location_ID\n",
    "## 3. pickup_date\n",
    "## 4. avg_fare as this is the target"
   ]
  },
  {
   "cell_type": "code",
   "execution_count": 276,
   "metadata": {},
   "outputs": [],
   "source": [
    "## Construct 1-hot vectors for pickup and dropoff locations\n",
    "## There are 265 unique location IDs\n",
    "location_IDs = [i for i in range(1, 266)]"
   ]
  },
  {
   "cell_type": "code",
   "execution_count": 277,
   "metadata": {
    "id": "PglSS8n1ARZ0"
   },
   "outputs": [],
   "source": [
    "trip_avg_fare_DF['pickup_location_ID'] = trip_avg_fare_DF['pickup_location_ID'].astype(CategoricalDtype(location_IDs))\n",
    "trip_avg_fare_DF['dropoff_location_ID'] = trip_avg_fare_DF['dropoff_location_ID'].astype(CategoricalDtype(location_IDs))\n",
    "trip_avg_fare_DF = pd.concat([trip_avg_fare_DF, pd.get_dummies(trip_avg_fare_DF['pickup_location_ID'], prefix='PU_ID')], axis=1)\n",
    "trip_avg_fare_DF = pd.concat([trip_avg_fare_DF, pd.get_dummies(trip_avg_fare_DF['dropoff_location_ID'], prefix='DO_ID')], axis=1)"
   ]
  },
  {
   "cell_type": "code",
   "execution_count": 278,
   "metadata": {
    "colab": {
     "base_uri": "https://localhost:8080/",
     "height": 425
    },
    "id": "lhmdhZAnPlUG",
    "outputId": "5ab5ac95-40d9-48ae-cff4-8e7866c4f822"
   },
   "outputs": [
    {
     "data": {
      "text/html": [
       "<div>\n",
       "<style scoped>\n",
       "    .dataframe tbody tr th:only-of-type {\n",
       "        vertical-align: middle;\n",
       "    }\n",
       "\n",
       "    .dataframe tbody tr th {\n",
       "        vertical-align: top;\n",
       "    }\n",
       "\n",
       "    .dataframe thead th {\n",
       "        text-align: right;\n",
       "    }\n",
       "</style>\n",
       "<table border=\"1\" class=\"dataframe\">\n",
       "  <thead>\n",
       "    <tr style=\"text-align: right;\">\n",
       "      <th></th>\n",
       "      <th>pickup_location_ID</th>\n",
       "      <th>dropoff_location_ID</th>\n",
       "      <th>pickup_date</th>\n",
       "      <th>PU_time_2AM-5:59AM</th>\n",
       "      <th>PU_time_6AM-9:59AM</th>\n",
       "      <th>PU_time_10AM-1:59PM</th>\n",
       "      <th>PU_time_2PM-5:59PM</th>\n",
       "      <th>PU_time_6PM-9:59PM</th>\n",
       "      <th>PU_time_10PM-1:59AM</th>\n",
       "      <th>avg_fare</th>\n",
       "      <th>...</th>\n",
       "      <th>DO_ID_256</th>\n",
       "      <th>DO_ID_257</th>\n",
       "      <th>DO_ID_258</th>\n",
       "      <th>DO_ID_259</th>\n",
       "      <th>DO_ID_260</th>\n",
       "      <th>DO_ID_261</th>\n",
       "      <th>DO_ID_262</th>\n",
       "      <th>DO_ID_263</th>\n",
       "      <th>DO_ID_264</th>\n",
       "      <th>DO_ID_265</th>\n",
       "    </tr>\n",
       "  </thead>\n",
       "  <tbody>\n",
       "    <tr>\n",
       "      <th>0</th>\n",
       "      <td>1</td>\n",
       "      <td>1</td>\n",
       "      <td>2019-06-02</td>\n",
       "      <td>0</td>\n",
       "      <td>0</td>\n",
       "      <td>0</td>\n",
       "      <td>0</td>\n",
       "      <td>1</td>\n",
       "      <td>0</td>\n",
       "      <td>127.00</td>\n",
       "      <td>...</td>\n",
       "      <td>0</td>\n",
       "      <td>0</td>\n",
       "      <td>0</td>\n",
       "      <td>0</td>\n",
       "      <td>0</td>\n",
       "      <td>0</td>\n",
       "      <td>0</td>\n",
       "      <td>0</td>\n",
       "      <td>0</td>\n",
       "      <td>0</td>\n",
       "    </tr>\n",
       "    <tr>\n",
       "      <th>1</th>\n",
       "      <td>1</td>\n",
       "      <td>1</td>\n",
       "      <td>2019-06-02</td>\n",
       "      <td>0</td>\n",
       "      <td>0</td>\n",
       "      <td>0</td>\n",
       "      <td>1</td>\n",
       "      <td>0</td>\n",
       "      <td>0</td>\n",
       "      <td>109.50</td>\n",
       "      <td>...</td>\n",
       "      <td>0</td>\n",
       "      <td>0</td>\n",
       "      <td>0</td>\n",
       "      <td>0</td>\n",
       "      <td>0</td>\n",
       "      <td>0</td>\n",
       "      <td>0</td>\n",
       "      <td>0</td>\n",
       "      <td>0</td>\n",
       "      <td>0</td>\n",
       "    </tr>\n",
       "    <tr>\n",
       "      <th>2</th>\n",
       "      <td>1</td>\n",
       "      <td>1</td>\n",
       "      <td>2019-06-02</td>\n",
       "      <td>0</td>\n",
       "      <td>1</td>\n",
       "      <td>0</td>\n",
       "      <td>0</td>\n",
       "      <td>0</td>\n",
       "      <td>0</td>\n",
       "      <td>20.00</td>\n",
       "      <td>...</td>\n",
       "      <td>0</td>\n",
       "      <td>0</td>\n",
       "      <td>0</td>\n",
       "      <td>0</td>\n",
       "      <td>0</td>\n",
       "      <td>0</td>\n",
       "      <td>0</td>\n",
       "      <td>0</td>\n",
       "      <td>0</td>\n",
       "      <td>0</td>\n",
       "    </tr>\n",
       "    <tr>\n",
       "      <th>3</th>\n",
       "      <td>1</td>\n",
       "      <td>1</td>\n",
       "      <td>2019-06-03</td>\n",
       "      <td>0</td>\n",
       "      <td>0</td>\n",
       "      <td>0</td>\n",
       "      <td>0</td>\n",
       "      <td>1</td>\n",
       "      <td>0</td>\n",
       "      <td>47.00</td>\n",
       "      <td>...</td>\n",
       "      <td>0</td>\n",
       "      <td>0</td>\n",
       "      <td>0</td>\n",
       "      <td>0</td>\n",
       "      <td>0</td>\n",
       "      <td>0</td>\n",
       "      <td>0</td>\n",
       "      <td>0</td>\n",
       "      <td>0</td>\n",
       "      <td>0</td>\n",
       "    </tr>\n",
       "    <tr>\n",
       "      <th>4</th>\n",
       "      <td>1</td>\n",
       "      <td>1</td>\n",
       "      <td>2019-06-03</td>\n",
       "      <td>0</td>\n",
       "      <td>0</td>\n",
       "      <td>1</td>\n",
       "      <td>0</td>\n",
       "      <td>0</td>\n",
       "      <td>0</td>\n",
       "      <td>89.25</td>\n",
       "      <td>...</td>\n",
       "      <td>0</td>\n",
       "      <td>0</td>\n",
       "      <td>0</td>\n",
       "      <td>0</td>\n",
       "      <td>0</td>\n",
       "      <td>0</td>\n",
       "      <td>0</td>\n",
       "      <td>0</td>\n",
       "      <td>0</td>\n",
       "      <td>0</td>\n",
       "    </tr>\n",
       "    <tr>\n",
       "      <th>5</th>\n",
       "      <td>1</td>\n",
       "      <td>1</td>\n",
       "      <td>2019-06-03</td>\n",
       "      <td>0</td>\n",
       "      <td>1</td>\n",
       "      <td>0</td>\n",
       "      <td>0</td>\n",
       "      <td>0</td>\n",
       "      <td>0</td>\n",
       "      <td>100.00</td>\n",
       "      <td>...</td>\n",
       "      <td>0</td>\n",
       "      <td>0</td>\n",
       "      <td>0</td>\n",
       "      <td>0</td>\n",
       "      <td>0</td>\n",
       "      <td>0</td>\n",
       "      <td>0</td>\n",
       "      <td>0</td>\n",
       "      <td>0</td>\n",
       "      <td>0</td>\n",
       "    </tr>\n",
       "    <tr>\n",
       "      <th>6</th>\n",
       "      <td>1</td>\n",
       "      <td>1</td>\n",
       "      <td>2019-06-04</td>\n",
       "      <td>0</td>\n",
       "      <td>0</td>\n",
       "      <td>0</td>\n",
       "      <td>0</td>\n",
       "      <td>1</td>\n",
       "      <td>0</td>\n",
       "      <td>94.85</td>\n",
       "      <td>...</td>\n",
       "      <td>0</td>\n",
       "      <td>0</td>\n",
       "      <td>0</td>\n",
       "      <td>0</td>\n",
       "      <td>0</td>\n",
       "      <td>0</td>\n",
       "      <td>0</td>\n",
       "      <td>0</td>\n",
       "      <td>0</td>\n",
       "      <td>0</td>\n",
       "    </tr>\n",
       "    <tr>\n",
       "      <th>7</th>\n",
       "      <td>1</td>\n",
       "      <td>1</td>\n",
       "      <td>2019-06-05</td>\n",
       "      <td>0</td>\n",
       "      <td>0</td>\n",
       "      <td>0</td>\n",
       "      <td>0</td>\n",
       "      <td>1</td>\n",
       "      <td>0</td>\n",
       "      <td>96.00</td>\n",
       "      <td>...</td>\n",
       "      <td>0</td>\n",
       "      <td>0</td>\n",
       "      <td>0</td>\n",
       "      <td>0</td>\n",
       "      <td>0</td>\n",
       "      <td>0</td>\n",
       "      <td>0</td>\n",
       "      <td>0</td>\n",
       "      <td>0</td>\n",
       "      <td>0</td>\n",
       "    </tr>\n",
       "    <tr>\n",
       "      <th>8</th>\n",
       "      <td>1</td>\n",
       "      <td>1</td>\n",
       "      <td>2019-06-05</td>\n",
       "      <td>0</td>\n",
       "      <td>0</td>\n",
       "      <td>0</td>\n",
       "      <td>1</td>\n",
       "      <td>0</td>\n",
       "      <td>0</td>\n",
       "      <td>116.00</td>\n",
       "      <td>...</td>\n",
       "      <td>0</td>\n",
       "      <td>0</td>\n",
       "      <td>0</td>\n",
       "      <td>0</td>\n",
       "      <td>0</td>\n",
       "      <td>0</td>\n",
       "      <td>0</td>\n",
       "      <td>0</td>\n",
       "      <td>0</td>\n",
       "      <td>0</td>\n",
       "    </tr>\n",
       "    <tr>\n",
       "      <th>9</th>\n",
       "      <td>1</td>\n",
       "      <td>1</td>\n",
       "      <td>2019-06-05</td>\n",
       "      <td>0</td>\n",
       "      <td>0</td>\n",
       "      <td>1</td>\n",
       "      <td>0</td>\n",
       "      <td>0</td>\n",
       "      <td>0</td>\n",
       "      <td>69.50</td>\n",
       "      <td>...</td>\n",
       "      <td>0</td>\n",
       "      <td>0</td>\n",
       "      <td>0</td>\n",
       "      <td>0</td>\n",
       "      <td>0</td>\n",
       "      <td>0</td>\n",
       "      <td>0</td>\n",
       "      <td>0</td>\n",
       "      <td>0</td>\n",
       "      <td>0</td>\n",
       "    </tr>\n",
       "  </tbody>\n",
       "</table>\n",
       "<p>10 rows × 541 columns</p>\n",
       "</div>"
      ],
      "text/plain": [
       "  pickup_location_ID dropoff_location_ID pickup_date  PU_time_2AM-5:59AM  \\\n",
       "0                  1                   1  2019-06-02                   0   \n",
       "1                  1                   1  2019-06-02                   0   \n",
       "2                  1                   1  2019-06-02                   0   \n",
       "3                  1                   1  2019-06-03                   0   \n",
       "4                  1                   1  2019-06-03                   0   \n",
       "5                  1                   1  2019-06-03                   0   \n",
       "6                  1                   1  2019-06-04                   0   \n",
       "7                  1                   1  2019-06-05                   0   \n",
       "8                  1                   1  2019-06-05                   0   \n",
       "9                  1                   1  2019-06-05                   0   \n",
       "\n",
       "   PU_time_6AM-9:59AM  PU_time_10AM-1:59PM  PU_time_2PM-5:59PM  \\\n",
       "0                   0                    0                   0   \n",
       "1                   0                    0                   1   \n",
       "2                   1                    0                   0   \n",
       "3                   0                    0                   0   \n",
       "4                   0                    1                   0   \n",
       "5                   1                    0                   0   \n",
       "6                   0                    0                   0   \n",
       "7                   0                    0                   0   \n",
       "8                   0                    0                   1   \n",
       "9                   0                    1                   0   \n",
       "\n",
       "   PU_time_6PM-9:59PM  PU_time_10PM-1:59AM  avg_fare  ...  DO_ID_256  \\\n",
       "0                   1                    0    127.00  ...          0   \n",
       "1                   0                    0    109.50  ...          0   \n",
       "2                   0                    0     20.00  ...          0   \n",
       "3                   1                    0     47.00  ...          0   \n",
       "4                   0                    0     89.25  ...          0   \n",
       "5                   0                    0    100.00  ...          0   \n",
       "6                   1                    0     94.85  ...          0   \n",
       "7                   1                    0     96.00  ...          0   \n",
       "8                   0                    0    116.00  ...          0   \n",
       "9                   0                    0     69.50  ...          0   \n",
       "\n",
       "   DO_ID_257  DO_ID_258  DO_ID_259  DO_ID_260  DO_ID_261  DO_ID_262  \\\n",
       "0          0          0          0          0          0          0   \n",
       "1          0          0          0          0          0          0   \n",
       "2          0          0          0          0          0          0   \n",
       "3          0          0          0          0          0          0   \n",
       "4          0          0          0          0          0          0   \n",
       "5          0          0          0          0          0          0   \n",
       "6          0          0          0          0          0          0   \n",
       "7          0          0          0          0          0          0   \n",
       "8          0          0          0          0          0          0   \n",
       "9          0          0          0          0          0          0   \n",
       "\n",
       "   DO_ID_263  DO_ID_264  DO_ID_265  \n",
       "0          0          0          0  \n",
       "1          0          0          0  \n",
       "2          0          0          0  \n",
       "3          0          0          0  \n",
       "4          0          0          0  \n",
       "5          0          0          0  \n",
       "6          0          0          0  \n",
       "7          0          0          0  \n",
       "8          0          0          0  \n",
       "9          0          0          0  \n",
       "\n",
       "[10 rows x 541 columns]"
      ]
     },
     "execution_count": 278,
     "metadata": {},
     "output_type": "execute_result"
    }
   ],
   "source": [
    "trip_avg_fare_DF.head(10)"
   ]
  },
  {
   "cell_type": "code",
   "execution_count": 279,
   "metadata": {
    "colab": {
     "base_uri": "https://localhost:8080/",
     "height": 17
    },
    "id": "jGhlEj9FgBjr",
    "outputId": "33008fb9-227d-4c4e-8b5f-7dad13364647"
   },
   "outputs": [],
   "source": [
    "agg_fare_path = path + '_avg_fare'\n",
    "trip_avg_fare_DF = trip_avg_fare_DF.sample(frac=0.25)\n",
    "trip_avg_fare_DF.to_csv('./agg_taxi_fare_data/' + agg_fare_path + '.csv') "
   ]
  },
  {
   "cell_type": "code",
   "execution_count": 280,
   "metadata": {
    "colab": {
     "base_uri": "https://localhost:8080/"
    },
    "id": "prejGmyHkP0a",
    "outputId": "be63a8be-b2c1-4ef6-e403-3a01d730dbcc"
   },
   "outputs": [
    {
     "data": {
      "text/plain": [
       "(210543, 541)"
      ]
     },
     "execution_count": 280,
     "metadata": {},
     "output_type": "execute_result"
    }
   ],
   "source": [
    "trip_avg_fare_DF.shape"
   ]
  },
  {
   "cell_type": "code",
   "execution_count": null,
   "metadata": {},
   "outputs": [],
   "source": []
  }
 ],
 "metadata": {
  "colab": {
   "collapsed_sections": [],
   "name": "fare_prediction_dataset.ipynb",
   "provenance": []
  },
  "kernelspec": {
   "display_name": "Python 3",
   "language": "python",
   "name": "python3"
  },
  "language_info": {
   "codemirror_mode": {
    "name": "ipython",
    "version": 3
   },
   "file_extension": ".py",
   "mimetype": "text/x-python",
   "name": "python",
   "nbconvert_exporter": "python",
   "pygments_lexer": "ipython3",
   "version": "3.7.6"
  }
 },
 "nbformat": 4,
 "nbformat_minor": 1
}
