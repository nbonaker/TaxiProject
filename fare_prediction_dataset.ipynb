{
  "nbformat": 4,
  "nbformat_minor": 0,
  "metadata": {
    "colab": {
      "name": "fare_prediction_dataset.ipynb",
      "provenance": [],
      "collapsed_sections": []
    },
    "kernelspec": {
      "name": "python3",
      "language": "python",
      "display_name": "Python 3"
    }
  },
  "cells": [
    {
      "cell_type": "code",
      "metadata": {
        "id": "yVet2XrturGl",
        "pycharm": {
          "is_executing": false
        }
      },
      "source": [
        "import pandas as pd\n",
        "import numpy as np\n",
        "import datetime\n",
        "import holidays\n",
        "\n",
        "import networkx as nx\n",
        "from matplotlib import pyplot as plt"
      ],
      "execution_count": 1,
      "outputs": []
    },
    {
      "cell_type": "code",
      "metadata": {
        "id": "F43ITEt23cYp",
        "pycharm": {
          "is_executing": false
        }
      },
      "source": [
        "def create_trip_DF(path):\n",
        "  df \u003d pd.read_csv(path)\n",
        "  df.drop([\u0027extra\u0027, \u0027RatecodeID\u0027, \u0027store_and_fwd_flag\u0027, \u0027RatecodeID\u0027, \u0027payment_type\u0027, \u0027passenger_count\u0027, \u0027store_and_fwd_flag\u0027, \u0027tolls_amount\u0027, \u0027VendorID\u0027, \u0027tip_amount\u0027, \u0027improvement_surcharge\u0027, \u0027total_amount\u0027, \u0027congestion_surcharge\u0027, \u0027mta_tax\u0027], axis\u003d1, inplace\u003dTrue)\n",
        "  df.rename(columns\u003d{\u0027tpep_pickup_datetime\u0027:\u0027pickup_datetime\u0027, \u0027tpep_dropoff_datetime\u0027:\u0027dropoff_datetime\u0027, \u0027PULocationID\u0027: \u0027pickup_location_ID\u0027, \u0027DOLocationID\u0027:\u0027dropoff_location_ID\u0027}, inplace\u003dTrue)\n",
        "  df[\"pickup_datetime\"] \u003d pd.to_datetime(df[\"pickup_datetime\"], format\u003d\u0027%Y-%m-%d %H:%M:%S\u0027, errors\u003d\u0027ignore\u0027)\n",
        "  df[\"dropoff_datetime\"] \u003d pd.to_datetime(df[\"dropoff_datetime\"], format\u003d\u0027%Y-%m-%d %H:%M:%S\u0027, errors\u003d\u0027ignore\u0027)\n",
        "  df.dropna()\n",
        "  return df"
      ],
      "execution_count": 2,
      "outputs": []
    },
    {
      "cell_type": "code",
      "metadata": {
        "id": "T-TzZ28O1LE3",
        "pycharm": {
          "is_executing": false
        }
      },
      "source": "trip_DF \u003d create_trip_DF(\u0027D:/Users/nickb/PycharmProjectsD/TaxiProject/data/yellow_tripdata_2019-02.csv\u0027)",
      "execution_count": 16,
      "outputs": []
    },
    {
      "cell_type": "code",
      "metadata": {
        "id": "cXm1g3L-XV0R",
        "pycharm": {
          "is_executing": false
        }
      },
      "source": [
        "time_of_day_bins \u003d [\u0027PU_time_2AM-5:59AM\u0027, \u0027PU_time_6AM-9:59AM\u0027,\n",
        "               \u0027PU_time_10AM-1:59PM\u0027, \u0027PU_time_2PM-5:59PM\u0027,\n",
        "               \u0027PU_time_6PM-9:59PM\u0027, \u0027PU_time_10PM-1:59AM\u0027]\n",
        "\n",
        "def get_time_of_day_bin(timestamp, time_of_day_bins):\n",
        "  if 2 \u003c\u003d timestamp.hour and timestamp.hour \u003c 6:\n",
        "    return time_of_day_bins[0]\n",
        "  elif 6 \u003c\u003d timestamp.hour and timestamp.hour \u003c 10:\n",
        "    return time_of_day_bins[1]\n",
        "  elif 10 \u003c\u003d timestamp.hour and timestamp.hour \u003c 14:\n",
        "    return time_of_day_bins[2]\n",
        "  elif 14 \u003c\u003d timestamp.hour and timestamp.hour \u003c 18:\n",
        "    return time_of_day_bins[3]\n",
        "  elif 18 \u003c\u003d timestamp.hour and timestamp.hour \u003c 22:\n",
        "    return time_of_day_bins[4]\n",
        "  else:\n",
        "    return time_of_day_bins[5]"
      ],
      "execution_count": 17,
      "outputs": []
    },
    {
      "cell_type": "code",
      "metadata": {
        "id": "2bfiW31mV6Ef",
        "pycharm": {
          "is_executing": false
        }
      },
      "source": [
        "def append_and_fill_time_of_day_bins(df, time_of_day_bins):\n",
        "  for time_bin in time_of_day_bins:\n",
        "    print(time_bin)\n",
        "    df[time_bin] \u003d df[\u0027pickup_datetime\u0027].map(lambda timestamp: 1 if get_time_of_day_bin(timestamp, time_of_day_bins) \u003d\u003d time_bin else 0)"
      ],
      "execution_count": 5,
      "outputs": []
    },
    {
      "cell_type": "code",
      "metadata": {
        "colab": {
          "base_uri": "https://localhost:8080/"
        },
        "id": "liugPYkFa5QB",
        "outputId": "a26dfcc4-0c44-425e-bc3d-52caa5e4fb1f",
        "pycharm": {
          "is_executing": false
        }
      },
      "source": "append_and_fill_time_of_day_bins(trip_DF, time_of_day_bins)",
      "execution_count": 18,
      "outputs": [
        {
          "name": "stdout",
          "text": [
            "PU_time_2AM-5:59AM\n",
            "PU_time_6AM-9:59AM\n",
            "PU_time_10AM-1:59PM\n",
            "PU_time_2PM-5:59PM\n",
            "PU_time_6PM-9:59PM\n",
            "PU_time_10PM-1:59AM\n"
          ],
          "output_type": "stream"
        }
      ]
    },
    {
      "cell_type": "code",
      "metadata": {
        "id": "jmLnr-FgwZR3",
        "pycharm": {
          "is_executing": false
        }
      },
      "source": [
        "weekend_days \u003d [5, 6]\n",
        "us_holidays \u003d holidays.US()\n",
        "def is_weekend_or_holiday(date):\n",
        "  date_day \u003d date.day\n",
        "  stringified_date \u003d str(date)\n",
        "  if date_day in weekend_days:\n",
        "    return True\n",
        "  elif stringified_date in us_holidays:\n",
        "    return True\n",
        "  else:\n",
        "    return False"
      ],
      "execution_count": 7,
      "outputs": []
    },
    {
      "cell_type": "code",
      "metadata": {
        "id": "fapHmMbJnlwG",
        "pycharm": {
          "is_executing": false
        }
      },
      "source": [
        "trip_DF[\u0027pickup_date\u0027] \u003d trip_DF[\u0027pickup_datetime\u0027].map(lambda timestamp: timestamp.date())"
      ],
      "execution_count": 19,
      "outputs": []
    },
    {
      "cell_type": "code",
      "metadata": {
        "id": "Jn5wdYloGxka",
        "pycharm": {
          "is_executing": false
        }
      },
      "source": "def create_avg_fare_df(df):\n  fare_prediction_df \u003d df.groupby([\"pickup_location_ID\", \"dropoff_location_ID\", \"pickup_date\"] + time_of_day_bins, as_index\u003dFalse).agg(avg_fare\u003d(\u0027fare_amount\u0027, \u0027mean\u0027))\n  return fare_prediction_df",
      "execution_count": 9,
      "outputs": []
    },
    {
      "cell_type": "code",
      "metadata": {
        "id": "x1LyBHogo3sZ",
        "pycharm": {
          "is_executing": false
        }
      },
      "source": [
        "trip_avg_fare_DF \u003d create_avg_fare_df(trip_DF)"
      ],
      "execution_count": 20,
      "outputs": []
    },
    {
      "cell_type": "code",
      "metadata": {
        "id": "iMl4EOd9vIF5",
        "pycharm": {
          "is_executing": false
        }
      },
      "source": [
        "# if trips occur on weekend or US holiday\n",
        "trip_avg_fare_DF[\u0027weekend/holiday\u0027] \u003d trip_avg_fare_DF[\u0027pickup_date\u0027].map(lambda date: 1 if is_weekend_or_holiday(date) else 0)"
      ],
      "execution_count": 21,
      "outputs": []
    },
    {
      "cell_type": "code",
      "metadata": {
        "colab": {
          "base_uri": "https://localhost:8080/",
          "height": 396
        },
        "id": "mHXXMmdQrhc1",
        "outputId": "fdced751-d7d6-4bb8-b860-3443b22c0997",
        "pycharm": {
          "is_executing": false
        }
      },
      "source": [
        "trip_avg_fare_DF.head(10)"
      ],
      "execution_count": 22,
      "outputs": [
        {
          "data": {
            "text/plain": "   pickup_location_ID  dropoff_location_ID pickup_date  PU_time_2AM-5:59AM  \\\n0                   1                    1  2019-02-01                   0   \n1                   1                    1  2019-02-01                   0   \n2                   1                    1  2019-02-01                   0   \n3                   1                    1  2019-02-01                   0   \n4                   1                    1  2019-02-02                   0   \n5                   1                    1  2019-02-02                   0   \n6                   1                    1  2019-02-02                   0   \n7                   1                    1  2019-02-02                   0   \n8                   1                    1  2019-02-03                   0   \n9                   1                    1  2019-02-03                   0   \n\n   PU_time_6AM-9:59AM  PU_time_10AM-1:59PM  PU_time_2PM-5:59PM  \\\n0                   0                    0                   0   \n1                   0                    0                   1   \n2                   0                    1                   0   \n3                   1                    0                   0   \n4                   0                    0                   0   \n5                   0                    0                   1   \n6                   0                    1                   0   \n7                   1                    0                   0   \n8                   0                    0                   1   \n9                   0                    1                   0   \n\n   PU_time_6PM-9:59PM  PU_time_10PM-1:59AM    avg_fare  weekend/holiday  \n0                   1                    0  115.000000                0  \n1                   0                    0   93.123333                0  \n2                   0                    0   70.833333                0  \n3                   0                    0   84.600000                0  \n4                   1                    0   55.000000                0  \n5                   0                    0   89.166667                0  \n6                   0                    0   87.000000                0  \n7                   0                    0   54.266667                0  \n8                   0                    0   71.571429                0  \n9                   0                    0   97.666667                0  ",
            "text/html": "\u003cdiv\u003e\n\u003cstyle scoped\u003e\n    .dataframe tbody tr th:only-of-type {\n        vertical-align: middle;\n    }\n\n    .dataframe tbody tr th {\n        vertical-align: top;\n    }\n\n    .dataframe thead th {\n        text-align: right;\n    }\n\u003c/style\u003e\n\u003ctable border\u003d\"1\" class\u003d\"dataframe\"\u003e\n  \u003cthead\u003e\n    \u003ctr style\u003d\"text-align: right;\"\u003e\n      \u003cth\u003e\u003c/th\u003e\n      \u003cth\u003epickup_location_ID\u003c/th\u003e\n      \u003cth\u003edropoff_location_ID\u003c/th\u003e\n      \u003cth\u003epickup_date\u003c/th\u003e\n      \u003cth\u003ePU_time_2AM-5:59AM\u003c/th\u003e\n      \u003cth\u003ePU_time_6AM-9:59AM\u003c/th\u003e\n      \u003cth\u003ePU_time_10AM-1:59PM\u003c/th\u003e\n      \u003cth\u003ePU_time_2PM-5:59PM\u003c/th\u003e\n      \u003cth\u003ePU_time_6PM-9:59PM\u003c/th\u003e\n      \u003cth\u003ePU_time_10PM-1:59AM\u003c/th\u003e\n      \u003cth\u003eavg_fare\u003c/th\u003e\n      \u003cth\u003eweekend/holiday\u003c/th\u003e\n    \u003c/tr\u003e\n  \u003c/thead\u003e\n  \u003ctbody\u003e\n    \u003ctr\u003e\n      \u003cth\u003e0\u003c/th\u003e\n      \u003ctd\u003e1\u003c/td\u003e\n      \u003ctd\u003e1\u003c/td\u003e\n      \u003ctd\u003e2019-02-01\u003c/td\u003e\n      \u003ctd\u003e0\u003c/td\u003e\n      \u003ctd\u003e0\u003c/td\u003e\n      \u003ctd\u003e0\u003c/td\u003e\n      \u003ctd\u003e0\u003c/td\u003e\n      \u003ctd\u003e1\u003c/td\u003e\n      \u003ctd\u003e0\u003c/td\u003e\n      \u003ctd\u003e115.000000\u003c/td\u003e\n      \u003ctd\u003e0\u003c/td\u003e\n    \u003c/tr\u003e\n    \u003ctr\u003e\n      \u003cth\u003e1\u003c/th\u003e\n      \u003ctd\u003e1\u003c/td\u003e\n      \u003ctd\u003e1\u003c/td\u003e\n      \u003ctd\u003e2019-02-01\u003c/td\u003e\n      \u003ctd\u003e0\u003c/td\u003e\n      \u003ctd\u003e0\u003c/td\u003e\n      \u003ctd\u003e0\u003c/td\u003e\n      \u003ctd\u003e1\u003c/td\u003e\n      \u003ctd\u003e0\u003c/td\u003e\n      \u003ctd\u003e0\u003c/td\u003e\n      \u003ctd\u003e93.123333\u003c/td\u003e\n      \u003ctd\u003e0\u003c/td\u003e\n    \u003c/tr\u003e\n    \u003ctr\u003e\n      \u003cth\u003e2\u003c/th\u003e\n      \u003ctd\u003e1\u003c/td\u003e\n      \u003ctd\u003e1\u003c/td\u003e\n      \u003ctd\u003e2019-02-01\u003c/td\u003e\n      \u003ctd\u003e0\u003c/td\u003e\n      \u003ctd\u003e0\u003c/td\u003e\n      \u003ctd\u003e1\u003c/td\u003e\n      \u003ctd\u003e0\u003c/td\u003e\n      \u003ctd\u003e0\u003c/td\u003e\n      \u003ctd\u003e0\u003c/td\u003e\n      \u003ctd\u003e70.833333\u003c/td\u003e\n      \u003ctd\u003e0\u003c/td\u003e\n    \u003c/tr\u003e\n    \u003ctr\u003e\n      \u003cth\u003e3\u003c/th\u003e\n      \u003ctd\u003e1\u003c/td\u003e\n      \u003ctd\u003e1\u003c/td\u003e\n      \u003ctd\u003e2019-02-01\u003c/td\u003e\n      \u003ctd\u003e0\u003c/td\u003e\n      \u003ctd\u003e1\u003c/td\u003e\n      \u003ctd\u003e0\u003c/td\u003e\n      \u003ctd\u003e0\u003c/td\u003e\n      \u003ctd\u003e0\u003c/td\u003e\n      \u003ctd\u003e0\u003c/td\u003e\n      \u003ctd\u003e84.600000\u003c/td\u003e\n      \u003ctd\u003e0\u003c/td\u003e\n    \u003c/tr\u003e\n    \u003ctr\u003e\n      \u003cth\u003e4\u003c/th\u003e\n      \u003ctd\u003e1\u003c/td\u003e\n      \u003ctd\u003e1\u003c/td\u003e\n      \u003ctd\u003e2019-02-02\u003c/td\u003e\n      \u003ctd\u003e0\u003c/td\u003e\n      \u003ctd\u003e0\u003c/td\u003e\n      \u003ctd\u003e0\u003c/td\u003e\n      \u003ctd\u003e0\u003c/td\u003e\n      \u003ctd\u003e1\u003c/td\u003e\n      \u003ctd\u003e0\u003c/td\u003e\n      \u003ctd\u003e55.000000\u003c/td\u003e\n      \u003ctd\u003e0\u003c/td\u003e\n    \u003c/tr\u003e\n    \u003ctr\u003e\n      \u003cth\u003e5\u003c/th\u003e\n      \u003ctd\u003e1\u003c/td\u003e\n      \u003ctd\u003e1\u003c/td\u003e\n      \u003ctd\u003e2019-02-02\u003c/td\u003e\n      \u003ctd\u003e0\u003c/td\u003e\n      \u003ctd\u003e0\u003c/td\u003e\n      \u003ctd\u003e0\u003c/td\u003e\n      \u003ctd\u003e1\u003c/td\u003e\n      \u003ctd\u003e0\u003c/td\u003e\n      \u003ctd\u003e0\u003c/td\u003e\n      \u003ctd\u003e89.166667\u003c/td\u003e\n      \u003ctd\u003e0\u003c/td\u003e\n    \u003c/tr\u003e\n    \u003ctr\u003e\n      \u003cth\u003e6\u003c/th\u003e\n      \u003ctd\u003e1\u003c/td\u003e\n      \u003ctd\u003e1\u003c/td\u003e\n      \u003ctd\u003e2019-02-02\u003c/td\u003e\n      \u003ctd\u003e0\u003c/td\u003e\n      \u003ctd\u003e0\u003c/td\u003e\n      \u003ctd\u003e1\u003c/td\u003e\n      \u003ctd\u003e0\u003c/td\u003e\n      \u003ctd\u003e0\u003c/td\u003e\n      \u003ctd\u003e0\u003c/td\u003e\n      \u003ctd\u003e87.000000\u003c/td\u003e\n      \u003ctd\u003e0\u003c/td\u003e\n    \u003c/tr\u003e\n    \u003ctr\u003e\n      \u003cth\u003e7\u003c/th\u003e\n      \u003ctd\u003e1\u003c/td\u003e\n      \u003ctd\u003e1\u003c/td\u003e\n      \u003ctd\u003e2019-02-02\u003c/td\u003e\n      \u003ctd\u003e0\u003c/td\u003e\n      \u003ctd\u003e1\u003c/td\u003e\n      \u003ctd\u003e0\u003c/td\u003e\n      \u003ctd\u003e0\u003c/td\u003e\n      \u003ctd\u003e0\u003c/td\u003e\n      \u003ctd\u003e0\u003c/td\u003e\n      \u003ctd\u003e54.266667\u003c/td\u003e\n      \u003ctd\u003e0\u003c/td\u003e\n    \u003c/tr\u003e\n    \u003ctr\u003e\n      \u003cth\u003e8\u003c/th\u003e\n      \u003ctd\u003e1\u003c/td\u003e\n      \u003ctd\u003e1\u003c/td\u003e\n      \u003ctd\u003e2019-02-03\u003c/td\u003e\n      \u003ctd\u003e0\u003c/td\u003e\n      \u003ctd\u003e0\u003c/td\u003e\n      \u003ctd\u003e0\u003c/td\u003e\n      \u003ctd\u003e1\u003c/td\u003e\n      \u003ctd\u003e0\u003c/td\u003e\n      \u003ctd\u003e0\u003c/td\u003e\n      \u003ctd\u003e71.571429\u003c/td\u003e\n      \u003ctd\u003e0\u003c/td\u003e\n    \u003c/tr\u003e\n    \u003ctr\u003e\n      \u003cth\u003e9\u003c/th\u003e\n      \u003ctd\u003e1\u003c/td\u003e\n      \u003ctd\u003e1\u003c/td\u003e\n      \u003ctd\u003e2019-02-03\u003c/td\u003e\n      \u003ctd\u003e0\u003c/td\u003e\n      \u003ctd\u003e0\u003c/td\u003e\n      \u003ctd\u003e1\u003c/td\u003e\n      \u003ctd\u003e0\u003c/td\u003e\n      \u003ctd\u003e0\u003c/td\u003e\n      \u003ctd\u003e0\u003c/td\u003e\n      \u003ctd\u003e97.666667\u003c/td\u003e\n      \u003ctd\u003e0\u003c/td\u003e\n    \u003c/tr\u003e\n  \u003c/tbody\u003e\n\u003c/table\u003e\n\u003c/div\u003e"
          },
          "metadata": {},
          "output_type": "execute_result",
          "execution_count": 22
        }
      ]
    },
    {
      "cell_type": "code",
      "metadata": {
        "colab": {
          "base_uri": "https://localhost:8080/"
        },
        "id": "dDY8MYdi2tY4",
        "outputId": "6bb45f2c-740f-45b1-8a62-2706a2e2161e",
        "pycharm": {
          "is_executing": false
        }
      },
      "source": [
        "len(trip_avg_fare_DF.index)"
      ],
      "execution_count": 24,
      "outputs": [
        {
          "data": {
            "text/plain": "821278"
          },
          "metadata": {},
          "output_type": "execute_result",
          "execution_count": 24
        }
      ]
    },
    {
      "cell_type": "code",
      "metadata": {
        "colab": {
          "base_uri": "https://localhost:8080/",
          "height": 315
        },
        "id": "FkWvat04_vt7",
        "outputId": "112ad2f4-3a41-4b2b-b1ed-1d577c1b9996",
        "pycharm": {
          "is_executing": false
        }
      },
      "source": "trip_avg_fare_DF.hist(column\u003d\"avg_fare\", bins\u003d30, range\u003d(0, 100))",
      "execution_count": 27,
      "outputs": [
        {
          "data": {
            "text/plain": "array([[\u003cmatplotlib.axes._subplots.AxesSubplot object at 0x00000199C9EC51D0\u003e]],\n      dtype\u003dobject)"
          },
          "metadata": {},
          "output_type": "execute_result",
          "execution_count": 27
        },
        {
          "data": {
            "text/plain": "\u003cFigure size 432x288 with 1 Axes\u003e",
            "image/png": "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\u003d\u003d\n"
          },
          "metadata": {
            "needs_background": "light"
          },
          "output_type": "display_data"
        }
      ]
    },
    {
      "cell_type": "code",
      "execution_count": 25,
      "outputs": [],
      "source": "trip_avg_fare_DF.to_csv(\u0027D:/Users/nickb/PycharmProjectsD/TaxiProject/data/avgfare_2019-02.csv\u0027)\n",
      "metadata": {
        "pycharm": {
          "metadata": false,
          "name": "#%%\n",
          "is_executing": false
        }
      }
    }
  ]
}